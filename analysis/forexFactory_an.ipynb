{
 "cells": [
  {
   "cell_type": "code",
   "execution_count": 1,
   "metadata": {},
   "outputs": [
    {
     "ename": "ModuleNotFoundError",
     "evalue": "No module named 'scraping.forexFactory_com'",
     "output_type": "error",
     "traceback": [
      "\u001b[0;31m---------------------------------------------------------------------------\u001b[0m",
      "\u001b[0;31mModuleNotFoundError\u001b[0m                       Traceback (most recent call last)",
      "Cell \u001b[0;32mIn[1], line 4\u001b[0m\n\u001b[1;32m      2\u001b[0m sys\u001b[38;5;241m.\u001b[39mpath\u001b[38;5;241m.\u001b[39mappend(\u001b[38;5;124m\"\u001b[39m\u001b[38;5;124m../\u001b[39m\u001b[38;5;124m\"\u001b[39m)\n\u001b[1;32m      3\u001b[0m \u001b[38;5;28;01mimport\u001b[39;00m \u001b[38;5;21;01mpandas\u001b[39;00m \u001b[38;5;28;01mas\u001b[39;00m \u001b[38;5;21;01mpd\u001b[39;00m\n\u001b[0;32m----> 4\u001b[0m \u001b[38;5;28;01mimport\u001b[39;00m \u001b[38;5;21;01mscraping\u001b[39;00m\u001b[38;5;21;01m.\u001b[39;00m\u001b[38;5;21;01mforexFactory_com\u001b[39;00m \u001b[38;5;28;01mas\u001b[39;00m \u001b[38;5;21;01mff\u001b[39;00m\n\u001b[1;32m      6\u001b[0m \u001b[38;5;28;01mimport\u001b[39;00m \u001b[38;5;21;01mpandas\u001b[39;00m \u001b[38;5;28;01mas\u001b[39;00m \u001b[38;5;21;01mpd\u001b[39;00m\n\u001b[1;32m      7\u001b[0m \u001b[38;5;28;01mfrom\u001b[39;00m \u001b[38;5;21;01mdateutil\u001b[39;00m \u001b[38;5;28;01mimport\u001b[39;00m parser\n",
      "\u001b[0;31mModuleNotFoundError\u001b[0m: No module named 'scraping.forexFactory_com'"
     ]
    }
   ],
   "source": [
    "import sys\n",
    "sys.path.append(\"../\")\n",
    "import pandas as pd\n",
    "import scraping.forexFactory_com as ff\n",
    "\n",
    "import pandas as pd\n",
    "from dateutil import parser\n",
    "from sklearn.preprocessing import StandardScaler\n",
    "\n",
    "import re\n",
    "import numpy as np\n",
    "pd.set_option('display.max_rows', None)  # Display all rows\n",
    "pd.set_option('display.max_columns', None)\n",
    "import re\n",
    "import numpy as np\n",
    "import pandas as pd\n",
    "\n",
    "from sklearn.impute import KNNImputer\n",
    "from sklearn.preprocessing import LabelEncoder\n"
   ]
  },
  {
   "cell_type": "code",
   "execution_count": null,
   "metadata": {},
   "outputs": [],
   "source": [
    "forexfox = ff.get_monthly_data(\"nov.2024\").copy()\n",
    "\n",
    "forexfox_an = forexfox.copy()\n",
    "forexfox.head(75)\n",
    "\n"
   ]
  },
  {
   "cell_type": "code",
   "execution_count": null,
   "metadata": {},
   "outputs": [],
   "source": [
    "forexfox_an.head(75)\n"
   ]
  },
  {
   "cell_type": "code",
   "execution_count": null,
   "metadata": {},
   "outputs": [],
   "source": [
    "def calculate_rate_of_change(self):\n",
    "        \"\"\"Calculate rate of change between actual, previous, and forecast values.\"\"\"\n",
    "        forexfox_an['rate_change_actual_previous'] = (\n",
    "            (self.forexfox_an['actual'] - forexfox_an['previous']) /forexfox_an['previous']\n",
    "        )\n",
    "        forexfox_an['rate_change_actual_forecast'] = (\n",
    "            (forexfox_an['actual'] - forexfox_an['forecast']) / forexfox_an['forecast']\n",
    "        )\n",
    "        return forexfox_an[['Date', 'rate_change_actual_previous', 'rate_change_actual_forecast']]\n"
   ]
  },
  {
   "cell_type": "code",
   "execution_count": null,
   "metadata": {},
   "outputs": [],
   "source": [
    "date_time_list = []\n",
    "for index, row in forexfox_an.iterrows():\n",
    "    # Check if 'Time' is set to \"All Day\"\n",
    "    time_value = row['Time'] if row['Time'] != 'All Day' else '12:00am'\n",
    "    date_string = f\"{row['Date']} {time_value}\"\n",
    "    \n",
    "    try:\n",
    "        parsed_date = parser.parse(date_string)\n",
    "    except parser.ParserError:\n",
    "        print(f\"Skipping invalid date format: {date_string}\")\n",
    "        parsed_date = None\n",
    "    \n",
    "    date_time_list.append(parsed_date)\n",
    "\n",
    "# Assign the parsed date-time values to a new 'DateTime' column\n",
    "forexfox_an['DateTime'] = date_time_list\n",
    "\n",
    "\n",
    "\n"
   ]
  },
  {
   "cell_type": "code",
   "execution_count": null,
   "metadata": {},
   "outputs": [],
   "source": [
    "forexfox_an.head()"
   ]
  },
  {
   "cell_type": "code",
   "execution_count": null,
   "metadata": {},
   "outputs": [],
   "source": [
    "forexfox_an.head()\n",
    "forexfox_norma =forexfox_an.copy()\n"
   ]
  },
  {
   "cell_type": "code",
   "execution_count": null,
   "metadata": {},
   "outputs": [],
   "source": [
    "# Step 3: Feature Engineering - Extract useful information from 'DateTime'\n",
    "forexfox_an['DayOfWeek'] = forexfox_an['DateTime'].dt.dayofweek\n",
    "forexfox_an['Hour'] = forexfox_an['DateTime'].dt.hour\n",
    "\n",
    "# Step 4: Drop original 'Date', 'Time', and 'DateTime' columns\n",
    "forexfox_an = forexfox_an.drop(['DateTime'], axis=1)\n",
    "forexfox_an = forexfox_an.drop(['Time'], axis=1)\n",
    "forexfox_an = forexfox_an.drop(['Date'], axis=1)\n",
    "\n",
    "# # Drop rows where 'DateTime' could not be parsed\n",
    "# forexfox.dropna(subset=['DateTime'], inplace=True)\n"
   ]
  },
  {
   "cell_type": "code",
   "execution_count": null,
   "metadata": {},
   "outputs": [],
   "source": []
  },
  {
   "cell_type": "code",
   "execution_count": null,
   "metadata": {},
   "outputs": [],
   "source": [
    "\n",
    "\n",
    "# List of symbols to remove\n",
    "SYMBOLS_TO_REMOVE = [r'%', r'M', r'¥', r'\\$', r'€', r'C\\$', r'K', r'B', r'A', r'\\s', r',']\n",
    "pattern = '|'.join(SYMBOLS_TO_REMOVE)\n",
    "\n",
    "# Define the standalone function\n",
    "def remove_symbols(column):\n",
    "    \"\"\"Remove specified symbols from a column, handle multi-values, and convert to float.\"\"\"\n",
    "    cleaned_column = []\n",
    "    \n",
    "    for value in column:\n",
    "        # Convert the value to a string and remove symbols using regex\n",
    "        cleaned_value = re.sub(pattern, '', str(value))\n",
    "        \n",
    "        # Handle cases with multiple values separated by '|'\n",
    "        if '|' in cleaned_value:\n",
    "            # Split by '|' and take the first part\n",
    "            cleaned_value = cleaned_value.split('|')[0]\n",
    "        \n",
    "        # Replace empty strings with NaN\n",
    "        if cleaned_value == '':\n",
    "            cleaned_column.append(np.nan)\n",
    "        else:\n",
    "            try:\n",
    "                cleaned_column.append(float(cleaned_value))\n",
    "            except ValueError:\n",
    "                # If conversion to float fails, set as NaN\n",
    "                cleaned_column.append(np.nan)\n",
    "    \n",
    "    # Return the cleaned values as a Pandas Series\n",
    "    return pd.Series(cleaned_column)\n",
    "\n",
    "\n",
    "\n",
    "# Apply `remove_symbols` to the specified columns\n",
    "forexfox_an['Actual'] = remove_symbols(forexfox_an['Actual'])\n",
    "forexfox_an['Previous'] = remove_symbols(forexfox_an['Previous'])\n",
    "forexfox_an['Forecast'] = remove_symbols(forexfox_an['Forecast'])\n",
    "# Keep only rows where at least one of 'Actual', 'Forecast', or 'Previous' is not NaN\n",
    "forexfox_an.dropna(subset=['Actual', 'Forecast', 'Previous'], how='all', inplace=True)\n",
    "\n",
    "\n",
    "# Display the cleaned DataFrame\n",
    "print(forexfox_an.head(40))\n",
    "\n",
    "\n"
   ]
  },
  {
   "cell_type": "code",
   "execution_count": null,
   "metadata": {},
   "outputs": [],
   "source": []
  },
  {
   "cell_type": "code",
   "execution_count": null,
   "metadata": {},
   "outputs": [],
   "source": [
    "le_currency = LabelEncoder()\n",
    "le_event = LabelEncoder()\n",
    "forexfox_an['Currency'] = le_currency.fit_transform(forexfox_an['Currency'])\n",
    "forexfox_an['Event'] = le_event.fit_transform(forexfox_an['Event'])"
   ]
  },
  {
   "cell_type": "code",
   "execution_count": null,
   "metadata": {},
   "outputs": [],
   "source": [
    "imputer = KNNImputer(n_neighbors=3)\n",
    "forexfox_an_imputed = pd.DataFrame(imputer.fit_transform(forexfox_an), columns=forexfox_an.columns)\n",
    "\n",
    "print(forexfox_an_imputed)"
   ]
  },
  {
   "cell_type": "code",
   "execution_count": null,
   "metadata": {},
   "outputs": [],
   "source": [
    "reference_date = pd.to_datetime(\"2024-11-01\")\n",
    "\n",
    "def reconstruct_datetime(row):\n",
    "    # Calculate the actual date using reference_date and 'DayOfWeek'\n",
    "    adjusted_date = reference_date + pd.to_timedelta((row['DayOfWeek'] - reference_date.weekday()) % 7, unit='D')\n",
    "    return pd.Timestamp(adjusted_date.year, adjusted_date.month, adjusted_date.day, int(row['Hour']), 0)\n",
    "\n",
    "# Apply the function to reconstruct the DateTime column\n",
    "forexfox_an_imputed['DateTime'] = forexfox_an_imputed.apply(reconstruct_datetime, axis=1)\n",
    "\n",
    "# Step 9: Drop feature-engineered columns if they are not needed\n",
    "forexfox_an_imputed = forexfox_an_imputed.drop(['DayOfWeek', 'Hour'], axis=1)\n",
    "\n",
    "# Display the cleaned and imputed DataFrame\n",
    "print(forexfox_an_imputed.head(40))\n",
    "\n"
   ]
  },
  {
   "cell_type": "code",
   "execution_count": null,
   "metadata": {},
   "outputs": [],
   "source": []
  },
  {
   "cell_type": "code",
   "execution_count": null,
   "metadata": {},
   "outputs": [],
   "source": []
  },
  {
   "cell_type": "code",
   "execution_count": null,
   "metadata": {},
   "outputs": [],
   "source": []
  },
  {
   "cell_type": "code",
   "execution_count": null,
   "metadata": {},
   "outputs": [],
   "source": []
  }
 ],
 "metadata": {
  "kernelspec": {
   "display_name": "venv",
   "language": "python",
   "name": "python3"
  },
  "language_info": {
   "codemirror_mode": {
    "name": "ipython",
    "version": 3
   },
   "file_extension": ".py",
   "mimetype": "text/x-python",
   "name": "python",
   "nbconvert_exporter": "python",
   "pygments_lexer": "ipython3",
   "version": "3.12.6"
  }
 },
 "nbformat": 4,
 "nbformat_minor": 2
}
