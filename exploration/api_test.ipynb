{
 "cells": [
  {
   "cell_type": "code",
   "execution_count": 2,
   "id": "eb9a0d6c",
   "metadata": {},
   "outputs": [],
   "source": [
    "import sys\n",
    "sys.path.append(\"../\")\n",
    "import requests\n",
    "import pandas as pd\n",
    "import json\n",
    "from dateutil import parser\n",
    "from constants import defs\n",
    "from api import oanda_api as oa\n",
    "\n",
    "\n"
   ]
  },
  {
   "cell_type": "code",
   "execution_count": 3,
   "id": "196669c0",
   "metadata": {},
   "outputs": [],
   "source": [
    "session = requests.Session()"
   ]
  },
  {
   "cell_type": "code",
   "execution_count": 4,
   "id": "2b02ffb0",
   "metadata": {},
   "outputs": [],
   "source": [
    "session.headers.update({\n",
    "    \"Authorization\": f\"Bearer {defs.API_KEY}\",\n",
    "    \"Content-Type\": \"application/json\"\n",
    "})"
   ]
  },
  {
   "cell_type": "code",
   "execution_count": 5,
   "id": "724662b9",
   "metadata": {},
   "outputs": [],
   "source": [
    "params = dict(\n",
    "    count = 10,\n",
    "    granularity = \"H1\",\n",
    "    price = \"MBA\"\n",
    ")"
   ]
  },
  {
   "cell_type": "code",
   "execution_count": 6,
   "id": "ce4feeee",
   "metadata": {},
   "outputs": [],
   "source": [
    "\n",
    "\n",
    "url = f\"{defs.OANDA_URL}/accounts/{defs.ACCOUNT_ID}/instruments\""
   ]
  },
  {
   "cell_type": "code",
   "execution_count": 7,
   "id": "3adb3bc0",
   "metadata": {},
   "outputs": [],
   "source": [
    "response = session.get(url, params=None, data=None, headers=None)"
   ]
  },
  {
   "cell_type": "code",
   "execution_count": 8,
   "id": "2d1e3f68",
   "metadata": {},
   "outputs": [
    {
     "data": {
      "text/plain": [
       "200"
      ]
     },
     "execution_count": 8,
     "metadata": {},
     "output_type": "execute_result"
    }
   ],
   "source": [
    "response.status_code"
   ]
  },
  {
   "cell_type": "code",
   "execution_count": 9,
   "id": "b61af922",
   "metadata": {},
   "outputs": [],
   "source": [
    "data = response.json()"
   ]
  },
  {
   "cell_type": "code",
   "execution_count": 10,
   "id": "7cca9dbf",
   "metadata": {},
   "outputs": [],
   "source": [
    "instruments_list = data['instruments']"
   ]
  },
  {
   "cell_type": "code",
   "execution_count": 11,
   "id": "062ad001",
   "metadata": {},
   "outputs": [
    {
     "data": {
      "text/plain": [
       "68"
      ]
     },
     "execution_count": 11,
     "metadata": {},
     "output_type": "execute_result"
    }
   ],
   "source": [
    "len(instruments_list)"
   ]
  },
  {
   "cell_type": "code",
   "execution_count": 12,
   "id": "f206398b",
   "metadata": {},
   "outputs": [
    {
     "data": {
      "text/plain": [
       "dict_keys(['name', 'type', 'displayName', 'pipLocation', 'displayPrecision', 'tradeUnitsPrecision', 'minimumTradeSize', 'maximumTrailingStopDistance', 'minimumTrailingStopDistance', 'maximumPositionSize', 'maximumOrderUnits', 'marginRate', 'guaranteedStopLossOrderMode', 'tags', 'financing'])"
      ]
     },
     "execution_count": 12,
     "metadata": {},
     "output_type": "execute_result"
    }
   ],
   "source": [
    "instruments_list[0].keys()"
   ]
  },
  {
   "cell_type": "code",
   "execution_count": 13,
   "id": "1f3ca436",
   "metadata": {},
   "outputs": [],
   "source": [
    "key_i = ['name', 'type', 'displayName', 'pipLocation',\n",
    "         'displayPrecision', 'tradeUnitsPrecision', 'marginRate']"
   ]
  },
  {
   "cell_type": "code",
   "execution_count": 14,
   "id": "b71bf92e",
   "metadata": {},
   "outputs": [],
   "source": [
    "instruments_dict = {}\n",
    "for i in instruments_list:\n",
    "    key = i['name']\n",
    "    instruments_dict[key] = { k: i[k] for k in key_i }"
   ]
  },
  {
   "cell_type": "code",
   "execution_count": 15,
   "id": "5de0c72a",
   "metadata": {},
   "outputs": [
    {
     "data": {
      "text/plain": [
       "{'name': 'USD_CAD',\n",
       " 'type': 'CURRENCY',\n",
       " 'displayName': 'USD/CAD',\n",
       " 'pipLocation': -4,\n",
       " 'displayPrecision': 5,\n",
       " 'tradeUnitsPrecision': 0,\n",
       " 'marginRate': '0.02'}"
      ]
     },
     "execution_count": 15,
     "metadata": {},
     "output_type": "execute_result"
    }
   ],
   "source": [
    "instruments_dict['USD_CAD']"
   ]
  },
  {
   "cell_type": "code",
   "execution_count": 16,
   "id": "cd30b045",
   "metadata": {},
   "outputs": [
    {
     "data": {
      "text/plain": [
       "0.0001"
      ]
     },
     "execution_count": 16,
     "metadata": {},
     "output_type": "execute_result"
    }
   ],
   "source": [
    "# -4 -> 0.0001\n",
    "pow(10, -4)"
   ]
  },
  {
   "cell_type": "code",
   "execution_count": 17,
   "id": "e5fa457a",
   "metadata": {},
   "outputs": [],
   "source": [
    "with open(\"../data/instruments.json\", \"w\") as f:\n",
    "    f.write(json.dumps(instruments_dict, indent=2))"
   ]
  },
  {
   "cell_type": "code",
   "execution_count": 18,
   "id": "34fb0cd2",
   "metadata": {},
   "outputs": [],
   "source": [
    "def fetch_candles(pair_name, count=10, granularity=\"H1\"):\n",
    "    url = f\"{defs.OANDA_URL}/instruments/{pair_name}/candles\"\n",
    "    params = dict(\n",
    "        count = count,\n",
    "        granularity = granularity,\n",
    "        price = \"MBA\"\n",
    "    )\n",
    "    response = session.get(url, params=params, data=None, headers=None)\n",
    "    data = response.json()\n",
    "    \n",
    "    if response.status_code == 200:\n",
    "        if 'candles' not in data:\n",
    "            data = []\n",
    "        else:\n",
    "            data = data['candles']\n",
    "    return response.status_code, data\n",
    "\n",
    "def get_candles_df(data):\n",
    "    if len(data) == 0:\n",
    "        return pd.DataFrame.empty\n",
    "    \n",
    "    prices = ['mid', 'bid', 'ask']\n",
    "    ohlc = ['o', 'h', 'l', 'c']\n",
    "    \n",
    "    final_data = []\n",
    "    for candle in data:\n",
    "        if candle['complete'] == False:\n",
    "            continue\n",
    "        new_dict = {}\n",
    "        new_dict['time'] = parser.parse(candle['time'])\n",
    "        new_dict['volume'] = candle['volume']\n",
    "        for p in prices:\n",
    "            for o in ohlc:\n",
    "                new_dict[f\"{p}_{o}\"] = float(candle[p][o])\n",
    "        final_data.append(new_dict)\n",
    "    df = pd.DataFrame.from_dict(final_data)\n",
    "    return df\n",
    "\n",
    "def create_data_file(pair_name, count=10, granularity=\"H1\"):\n",
    "    code, data = fetch_candles(pair_name, count, granularity)\n",
    "    if code != 200:\n",
    "        print(\"Failed\", pair_name, data)\n",
    "        return\n",
    "    if len(data) == 0:\n",
    "        print(\"No candles\", pair_name)\n",
    "    candles_df = get_candles_df(data)\n",
    "    candles_df.to_pickle(f\"../data/{pair_name}_{granularity}.pkl\")\n",
    "    print(f\"{pair_name} {granularity} {candles_df.shape[0]} candles, {candles_df.time.min()} {candles_df.time.max()}\")\n",
    "    "
   ]
  },
  {
   "cell_type": "code",
   "execution_count": 19,
   "id": "ab340e70",
   "metadata": {},
   "outputs": [],
   "source": [
    "code, data = fetch_candles(\"EUR_USD\", count=10, granularity=\"H4\")\n",
    "candles_df = get_candles_df(data)"
   ]
  },
  {
   "cell_type": "code",
   "execution_count": 20,
   "id": "eba4c21e",
   "metadata": {},
   "outputs": [
    {
     "name": "stdout",
     "output_type": "stream",
     "text": [
      "EUR_USD H4 9 candles, 2025-01-17 14:00:00+00:00 2025-01-20 22:00:00+00:00\n"
     ]
    }
   ],
   "source": [
    "create_data_file(\"EUR_USD\", count=10, granularity=\"H4\")"
   ]
  },
  {
   "cell_type": "code",
   "execution_count": 21,
   "id": "9c359733",
   "metadata": {},
   "outputs": [],
   "source": [
    "our_curr = ['EUR', 'USD', 'GBP', 'JPY', 'CHF', 'NZD', 'CAD', 'AUD']"
   ]
  },
  {
   "cell_type": "code",
   "execution_count": 22,
   "id": "36c29996",
   "metadata": {},
   "outputs": [
    {
     "name": "stdout",
     "output_type": "stream",
     "text": [
      "EUR_USD H1 4000 candles, 2024-05-29 10:00:00+00:00 2025-01-21 02:00:00+00:00\n",
      "EUR_USD H4 4000 candles, 2022-06-24 09:00:00+00:00 2025-01-20 22:00:00+00:00\n",
      "EUR_GBP H1 4000 candles, 2024-05-29 10:00:00+00:00 2025-01-21 02:00:00+00:00\n",
      "EUR_GBP H4 4000 candles, 2022-06-24 09:00:00+00:00 2025-01-20 22:00:00+00:00\n",
      "EUR_JPY H1 4000 candles, 2024-05-29 10:00:00+00:00 2025-01-21 02:00:00+00:00\n",
      "EUR_JPY H4 4000 candles, 2022-06-24 09:00:00+00:00 2025-01-20 22:00:00+00:00\n",
      "EUR_CHF H1 4000 candles, 2024-05-29 10:00:00+00:00 2025-01-21 02:00:00+00:00\n",
      "EUR_CHF H4 4000 candles, 2022-06-24 09:00:00+00:00 2025-01-20 22:00:00+00:00\n",
      "EUR_NZD H1 4000 candles, 2024-05-29 09:00:00+00:00 2025-01-21 02:00:00+00:00\n",
      "EUR_NZD H4 4000 candles, 2022-06-24 17:00:00+00:00 2025-01-20 22:00:00+00:00\n",
      "EUR_CAD H1 4000 candles, 2024-05-29 10:00:00+00:00 2025-01-21 02:00:00+00:00\n",
      "EUR_CAD H4 4000 candles, 2022-06-24 09:00:00+00:00 2025-01-20 22:00:00+00:00\n",
      "EUR_AUD H1 4000 candles, 2024-05-29 10:00:00+00:00 2025-01-21 02:00:00+00:00\n"
     ]
    },
    {
     "ename": "KeyboardInterrupt",
     "evalue": "",
     "output_type": "error",
     "traceback": [
      "\u001b[0;31m---------------------------------------------------------------------------\u001b[0m",
      "\u001b[0;31mKeyboardInterrupt\u001b[0m                         Traceback (most recent call last)",
      "Cell \u001b[0;32mIn[22], line 6\u001b[0m\n\u001b[1;32m      4\u001b[0m \u001b[38;5;28;01mif\u001b[39;00m pr \u001b[38;5;129;01min\u001b[39;00m instruments_dict:\n\u001b[1;32m      5\u001b[0m     \u001b[38;5;28;01mfor\u001b[39;00m g \u001b[38;5;129;01min\u001b[39;00m [\u001b[38;5;124m\"\u001b[39m\u001b[38;5;124mH1\u001b[39m\u001b[38;5;124m\"\u001b[39m, \u001b[38;5;124m\"\u001b[39m\u001b[38;5;124mH4\u001b[39m\u001b[38;5;124m\"\u001b[39m]:\n\u001b[0;32m----> 6\u001b[0m         \u001b[43mcreate_data_file\u001b[49m\u001b[43m(\u001b[49m\u001b[43mpr\u001b[49m\u001b[43m,\u001b[49m\u001b[43m \u001b[49m\u001b[43mcount\u001b[49m\u001b[38;5;241;43m=\u001b[39;49m\u001b[38;5;241;43m4001\u001b[39;49m\u001b[43m,\u001b[49m\u001b[43m \u001b[49m\u001b[43mgranularity\u001b[49m\u001b[38;5;241;43m=\u001b[39;49m\u001b[43mg\u001b[49m\u001b[43m)\u001b[49m\n",
      "Cell \u001b[0;32mIn[18], line 46\u001b[0m, in \u001b[0;36mcreate_data_file\u001b[0;34m(pair_name, count, granularity)\u001b[0m\n\u001b[1;32m     44\u001b[0m \u001b[38;5;28;01mif\u001b[39;00m \u001b[38;5;28mlen\u001b[39m(data) \u001b[38;5;241m==\u001b[39m \u001b[38;5;241m0\u001b[39m:\n\u001b[1;32m     45\u001b[0m     \u001b[38;5;28mprint\u001b[39m(\u001b[38;5;124m\"\u001b[39m\u001b[38;5;124mNo candles\u001b[39m\u001b[38;5;124m\"\u001b[39m, pair_name)\n\u001b[0;32m---> 46\u001b[0m candles_df \u001b[38;5;241m=\u001b[39m \u001b[43mget_candles_df\u001b[49m\u001b[43m(\u001b[49m\u001b[43mdata\u001b[49m\u001b[43m)\u001b[49m\n\u001b[1;32m     47\u001b[0m candles_df\u001b[38;5;241m.\u001b[39mto_pickle(\u001b[38;5;124mf\u001b[39m\u001b[38;5;124m\"\u001b[39m\u001b[38;5;124m../data/\u001b[39m\u001b[38;5;132;01m{\u001b[39;00mpair_name\u001b[38;5;132;01m}\u001b[39;00m\u001b[38;5;124m_\u001b[39m\u001b[38;5;132;01m{\u001b[39;00mgranularity\u001b[38;5;132;01m}\u001b[39;00m\u001b[38;5;124m.pkl\u001b[39m\u001b[38;5;124m\"\u001b[39m)\n\u001b[1;32m     48\u001b[0m \u001b[38;5;28mprint\u001b[39m(\u001b[38;5;124mf\u001b[39m\u001b[38;5;124m\"\u001b[39m\u001b[38;5;132;01m{\u001b[39;00mpair_name\u001b[38;5;132;01m}\u001b[39;00m\u001b[38;5;124m \u001b[39m\u001b[38;5;132;01m{\u001b[39;00mgranularity\u001b[38;5;132;01m}\u001b[39;00m\u001b[38;5;124m \u001b[39m\u001b[38;5;132;01m{\u001b[39;00mcandles_df\u001b[38;5;241m.\u001b[39mshape[\u001b[38;5;241m0\u001b[39m]\u001b[38;5;132;01m}\u001b[39;00m\u001b[38;5;124m candles, \u001b[39m\u001b[38;5;132;01m{\u001b[39;00mcandles_df\u001b[38;5;241m.\u001b[39mtime\u001b[38;5;241m.\u001b[39mmin()\u001b[38;5;132;01m}\u001b[39;00m\u001b[38;5;124m \u001b[39m\u001b[38;5;132;01m{\u001b[39;00mcandles_df\u001b[38;5;241m.\u001b[39mtime\u001b[38;5;241m.\u001b[39mmax()\u001b[38;5;132;01m}\u001b[39;00m\u001b[38;5;124m\"\u001b[39m)\n",
      "Cell \u001b[0;32mIn[18], line 30\u001b[0m, in \u001b[0;36mget_candles_df\u001b[0;34m(data)\u001b[0m\n\u001b[1;32m     28\u001b[0m     \u001b[38;5;28;01mcontinue\u001b[39;00m\n\u001b[1;32m     29\u001b[0m new_dict \u001b[38;5;241m=\u001b[39m {}\n\u001b[0;32m---> 30\u001b[0m new_dict[\u001b[38;5;124m'\u001b[39m\u001b[38;5;124mtime\u001b[39m\u001b[38;5;124m'\u001b[39m] \u001b[38;5;241m=\u001b[39m \u001b[43mparser\u001b[49m\u001b[38;5;241;43m.\u001b[39;49m\u001b[43mparse\u001b[49m\u001b[43m(\u001b[49m\u001b[43mcandle\u001b[49m\u001b[43m[\u001b[49m\u001b[38;5;124;43m'\u001b[39;49m\u001b[38;5;124;43mtime\u001b[39;49m\u001b[38;5;124;43m'\u001b[39;49m\u001b[43m]\u001b[49m\u001b[43m)\u001b[49m\n\u001b[1;32m     31\u001b[0m new_dict[\u001b[38;5;124m'\u001b[39m\u001b[38;5;124mvolume\u001b[39m\u001b[38;5;124m'\u001b[39m] \u001b[38;5;241m=\u001b[39m candle[\u001b[38;5;124m'\u001b[39m\u001b[38;5;124mvolume\u001b[39m\u001b[38;5;124m'\u001b[39m]\n\u001b[1;32m     32\u001b[0m \u001b[38;5;28;01mfor\u001b[39;00m p \u001b[38;5;129;01min\u001b[39;00m prices:\n",
      "File \u001b[0;32m~/Desktop/forex_bot/.venv/lib/python3.13/site-packages/dateutil/parser/_parser.py:1368\u001b[0m, in \u001b[0;36mparse\u001b[0;34m(timestr, parserinfo, **kwargs)\u001b[0m\n\u001b[1;32m   1366\u001b[0m     \u001b[38;5;28;01mreturn\u001b[39;00m parser(parserinfo)\u001b[38;5;241m.\u001b[39mparse(timestr, \u001b[38;5;241m*\u001b[39m\u001b[38;5;241m*\u001b[39mkwargs)\n\u001b[1;32m   1367\u001b[0m \u001b[38;5;28;01melse\u001b[39;00m:\n\u001b[0;32m-> 1368\u001b[0m     \u001b[38;5;28;01mreturn\u001b[39;00m \u001b[43mDEFAULTPARSER\u001b[49m\u001b[38;5;241;43m.\u001b[39;49m\u001b[43mparse\u001b[49m\u001b[43m(\u001b[49m\u001b[43mtimestr\u001b[49m\u001b[43m,\u001b[49m\u001b[43m \u001b[49m\u001b[38;5;241;43m*\u001b[39;49m\u001b[38;5;241;43m*\u001b[39;49m\u001b[43mkwargs\u001b[49m\u001b[43m)\u001b[49m\n",
      "File \u001b[0;32m~/Desktop/forex_bot/.venv/lib/python3.13/site-packages/dateutil/parser/_parser.py:640\u001b[0m, in \u001b[0;36mparser.parse\u001b[0;34m(self, timestr, default, ignoretz, tzinfos, **kwargs)\u001b[0m\n\u001b[1;32m    636\u001b[0m \u001b[38;5;28;01mif\u001b[39;00m default \u001b[38;5;129;01mis\u001b[39;00m \u001b[38;5;28;01mNone\u001b[39;00m:\n\u001b[1;32m    637\u001b[0m     default \u001b[38;5;241m=\u001b[39m datetime\u001b[38;5;241m.\u001b[39mdatetime\u001b[38;5;241m.\u001b[39mnow()\u001b[38;5;241m.\u001b[39mreplace(hour\u001b[38;5;241m=\u001b[39m\u001b[38;5;241m0\u001b[39m, minute\u001b[38;5;241m=\u001b[39m\u001b[38;5;241m0\u001b[39m,\n\u001b[1;32m    638\u001b[0m                                               second\u001b[38;5;241m=\u001b[39m\u001b[38;5;241m0\u001b[39m, microsecond\u001b[38;5;241m=\u001b[39m\u001b[38;5;241m0\u001b[39m)\n\u001b[0;32m--> 640\u001b[0m res, skipped_tokens \u001b[38;5;241m=\u001b[39m \u001b[38;5;28;43mself\u001b[39;49m\u001b[38;5;241;43m.\u001b[39;49m\u001b[43m_parse\u001b[49m\u001b[43m(\u001b[49m\u001b[43mtimestr\u001b[49m\u001b[43m,\u001b[49m\u001b[43m \u001b[49m\u001b[38;5;241;43m*\u001b[39;49m\u001b[38;5;241;43m*\u001b[39;49m\u001b[43mkwargs\u001b[49m\u001b[43m)\u001b[49m\n\u001b[1;32m    642\u001b[0m \u001b[38;5;28;01mif\u001b[39;00m res \u001b[38;5;129;01mis\u001b[39;00m \u001b[38;5;28;01mNone\u001b[39;00m:\n\u001b[1;32m    643\u001b[0m     \u001b[38;5;28;01mraise\u001b[39;00m ParserError(\u001b[38;5;124m\"\u001b[39m\u001b[38;5;124mUnknown string format: \u001b[39m\u001b[38;5;132;01m%s\u001b[39;00m\u001b[38;5;124m\"\u001b[39m, timestr)\n",
      "File \u001b[0;32m~/Desktop/forex_bot/.venv/lib/python3.13/site-packages/dateutil/parser/_parser.py:740\u001b[0m, in \u001b[0;36mparser._parse\u001b[0;34m(self, timestr, dayfirst, yearfirst, fuzzy, fuzzy_with_tokens)\u001b[0m\n\u001b[1;32m    736\u001b[0m     value \u001b[38;5;241m=\u001b[39m \u001b[38;5;28;01mNone\u001b[39;00m\n\u001b[1;32m    738\u001b[0m \u001b[38;5;28;01mif\u001b[39;00m value \u001b[38;5;129;01mis\u001b[39;00m \u001b[38;5;129;01mnot\u001b[39;00m \u001b[38;5;28;01mNone\u001b[39;00m:\n\u001b[1;32m    739\u001b[0m     \u001b[38;5;66;03m# Numeric token\u001b[39;00m\n\u001b[0;32m--> 740\u001b[0m     i \u001b[38;5;241m=\u001b[39m \u001b[38;5;28;43mself\u001b[39;49m\u001b[38;5;241;43m.\u001b[39;49m\u001b[43m_parse_numeric_token\u001b[49m\u001b[43m(\u001b[49m\u001b[43ml\u001b[49m\u001b[43m,\u001b[49m\u001b[43m \u001b[49m\u001b[43mi\u001b[49m\u001b[43m,\u001b[49m\u001b[43m \u001b[49m\u001b[43minfo\u001b[49m\u001b[43m,\u001b[49m\u001b[43m \u001b[49m\u001b[43mymd\u001b[49m\u001b[43m,\u001b[49m\u001b[43m \u001b[49m\u001b[43mres\u001b[49m\u001b[43m,\u001b[49m\u001b[43m \u001b[49m\u001b[43mfuzzy\u001b[49m\u001b[43m)\u001b[49m\n\u001b[1;32m    742\u001b[0m \u001b[38;5;66;03m# Check weekday\u001b[39;00m\n\u001b[1;32m    743\u001b[0m \u001b[38;5;28;01melif\u001b[39;00m info\u001b[38;5;241m.\u001b[39mweekday(l[i]) \u001b[38;5;129;01mis\u001b[39;00m \u001b[38;5;129;01mnot\u001b[39;00m \u001b[38;5;28;01mNone\u001b[39;00m:\n",
      "File \u001b[0;32m~/Desktop/forex_bot/.venv/lib/python3.13/site-packages/dateutil/parser/_parser.py:958\u001b[0m, in \u001b[0;36mparser._parse_numeric_token\u001b[0;34m(self, tokens, idx, info, ymd, res, fuzzy)\u001b[0m\n\u001b[1;32m    955\u001b[0m \u001b[38;5;28;01mif\u001b[39;00m idx \u001b[38;5;241m+\u001b[39m \u001b[38;5;241m2\u001b[39m \u001b[38;5;241m<\u001b[39m len_l \u001b[38;5;129;01mand\u001b[39;00m \u001b[38;5;129;01mnot\u001b[39;00m info\u001b[38;5;241m.\u001b[39mjump(tokens[idx \u001b[38;5;241m+\u001b[39m \u001b[38;5;241m2\u001b[39m]):\n\u001b[1;32m    956\u001b[0m     \u001b[38;5;28;01mif\u001b[39;00m tokens[idx \u001b[38;5;241m+\u001b[39m \u001b[38;5;241m2\u001b[39m]\u001b[38;5;241m.\u001b[39misdigit():\n\u001b[1;32m    957\u001b[0m         \u001b[38;5;66;03m# 01-01[-01]\u001b[39;00m\n\u001b[0;32m--> 958\u001b[0m         \u001b[43mymd\u001b[49m\u001b[38;5;241;43m.\u001b[39;49m\u001b[43mappend\u001b[49m\u001b[43m(\u001b[49m\u001b[43mtokens\u001b[49m\u001b[43m[\u001b[49m\u001b[43midx\u001b[49m\u001b[43m \u001b[49m\u001b[38;5;241;43m+\u001b[39;49m\u001b[43m \u001b[49m\u001b[38;5;241;43m2\u001b[39;49m\u001b[43m]\u001b[49m\u001b[43m)\u001b[49m\n\u001b[1;32m    959\u001b[0m     \u001b[38;5;28;01melse\u001b[39;00m:\n\u001b[1;32m    960\u001b[0m         \u001b[38;5;66;03m# 01-Jan[-01]\u001b[39;00m\n\u001b[1;32m    961\u001b[0m         value \u001b[38;5;241m=\u001b[39m info\u001b[38;5;241m.\u001b[39mmonth(tokens[idx \u001b[38;5;241m+\u001b[39m \u001b[38;5;241m2\u001b[39m])\n",
      "File \u001b[0;32m~/Desktop/forex_bot/.venv/lib/python3.13/site-packages/dateutil/parser/_parser.py:430\u001b[0m, in \u001b[0;36m_ymd.append\u001b[0;34m(self, val, label)\u001b[0m\n\u001b[1;32m    428\u001b[0m \u001b[38;5;28;01mdef\u001b[39;00m\u001b[38;5;250m \u001b[39m\u001b[38;5;21mappend\u001b[39m(\u001b[38;5;28mself\u001b[39m, val, label\u001b[38;5;241m=\u001b[39m\u001b[38;5;28;01mNone\u001b[39;00m):\n\u001b[1;32m    429\u001b[0m     \u001b[38;5;28;01mif\u001b[39;00m \u001b[38;5;28mhasattr\u001b[39m(val, \u001b[38;5;124m'\u001b[39m\u001b[38;5;124m__len__\u001b[39m\u001b[38;5;124m'\u001b[39m):\n\u001b[0;32m--> 430\u001b[0m         \u001b[38;5;28;01mif\u001b[39;00m \u001b[43mval\u001b[49m\u001b[38;5;241;43m.\u001b[39;49m\u001b[43misdigit\u001b[49m\u001b[43m(\u001b[49m\u001b[43m)\u001b[49m \u001b[38;5;129;01mand\u001b[39;00m \u001b[38;5;28mlen\u001b[39m(val) \u001b[38;5;241m>\u001b[39m \u001b[38;5;241m2\u001b[39m:\n\u001b[1;32m    431\u001b[0m             \u001b[38;5;28mself\u001b[39m\u001b[38;5;241m.\u001b[39mcentury_specified \u001b[38;5;241m=\u001b[39m \u001b[38;5;28;01mTrue\u001b[39;00m\n\u001b[1;32m    432\u001b[0m             \u001b[38;5;28;01mif\u001b[39;00m label \u001b[38;5;129;01mnot\u001b[39;00m \u001b[38;5;129;01min\u001b[39;00m [\u001b[38;5;28;01mNone\u001b[39;00m, \u001b[38;5;124m'\u001b[39m\u001b[38;5;124mY\u001b[39m\u001b[38;5;124m'\u001b[39m]:  \u001b[38;5;66;03m# pragma: no cover\u001b[39;00m\n",
      "\u001b[0;31mKeyboardInterrupt\u001b[0m: "
     ]
    }
   ],
   "source": [
    "for p1 in our_curr:\n",
    "    for p2 in our_curr:\n",
    "        pr = f\"{p1}_{p2}\"\n",
    "        if pr in instruments_dict:\n",
    "            for g in [\"H1\", \"H4\"]:\n",
    "                create_data_file(pr, count=4001, granularity=g)"
   ]
  },
  {
   "cell_type": "code",
   "execution_count": null,
   "id": "20c06649",
   "metadata": {},
   "outputs": [],
   "source": []
  },
  {
   "cell_type": "code",
   "execution_count": null,
   "id": "0b10bf8f",
   "metadata": {},
   "outputs": [],
   "source": []
  },
  {
   "cell_type": "code",
   "execution_count": null,
   "id": "21d891ee",
   "metadata": {},
   "outputs": [],
   "source": []
  },
  {
   "cell_type": "code",
   "execution_count": null,
   "id": "b58d0f7d",
   "metadata": {},
   "outputs": [],
   "source": []
  },
  {
   "cell_type": "code",
   "execution_count": null,
   "id": "f065a3d2",
   "metadata": {},
   "outputs": [],
   "source": []
  },
  {
   "cell_type": "code",
   "execution_count": null,
   "id": "719819da",
   "metadata": {},
   "outputs": [],
   "source": []
  }
 ],
 "metadata": {
  "kernelspec": {
   "display_name": ".venv",
   "language": "python",
   "name": "python3"
  },
  "language_info": {
   "codemirror_mode": {
    "name": "ipython",
    "version": 3
   },
   "file_extension": ".py",
   "mimetype": "text/x-python",
   "name": "python",
   "nbconvert_exporter": "python",
   "pygments_lexer": "ipython3",
   "version": "3.13.0"
  }
 },
 "nbformat": 4,
 "nbformat_minor": 5
}
