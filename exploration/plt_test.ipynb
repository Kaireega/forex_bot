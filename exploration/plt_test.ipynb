{
 "cells": [
  {
   "cell_type": "code",
   "execution_count": 2,
   "id": "5fed330a",
   "metadata": {},
   "outputs": [],
   "source": [
    "import pandas as pd\n",
    "import plotly.graph_objects as go\n",
    "import datetime as dt\n",
    "from plotting import CandlePlot"
   ]
  },
  {
   "cell_type": "code",
   "execution_count": 3,
   "id": "b19a3cf7",
   "metadata": {},
   "outputs": [],
   "source": [
    "pair = \"EUR_USD\"\n",
    "granularity = \"H4\"\n",
    "df = pd.read_pickle(f\"../data/{pair}_{granularity}.pkl\")"
   ]
  },
  {
   "cell_type": "code",
   "execution_count": 4,
   "id": "2046e30d",
   "metadata": {},
   "outputs": [],
   "source": [
    "df_plot = df.iloc[:100]"
   ]
  },
  {
   "cell_type": "code",
   "execution_count": 5,
   "id": "2165d14e",
   "metadata": {},
   "outputs": [
    {
     "name": "stdout",
     "output_type": "stream",
     "text": [
      "                        time  volume    mid_o    mid_h    mid_l    mid_c  \\\n",
      "0  2024-10-31 21:00:00+00:00    6646  1.08852  1.08874  1.08806  1.08866   \n",
      "1  2024-11-01 01:00:00+00:00   14627  1.08866  1.08887  1.08752  1.08772   \n",
      "2  2024-11-01 05:00:00+00:00   19932  1.08772  1.08782  1.08574  1.08626   \n",
      "3  2024-11-01 09:00:00+00:00   34585  1.08625  1.09058  1.08524  1.08862   \n",
      "4  2024-11-01 13:00:00+00:00   48316  1.08864  1.08897  1.08464  1.08526   \n",
      "..                       ...     ...      ...      ...      ...      ...   \n",
      "95 2024-11-22 18:00:00+00:00   15979  1.04190  1.04255  1.04081  1.04186   \n",
      "96 2024-11-24 22:00:00+00:00   23642  1.04786  1.05016  1.04634  1.04781   \n",
      "97 2024-11-25 02:00:00+00:00   15206  1.04778  1.04895  1.04746  1.04792   \n",
      "98 2024-11-25 06:00:00+00:00   40875  1.04792  1.04972  1.04490  1.04896   \n",
      "99 2024-11-25 10:00:00+00:00   37943  1.04896  1.05304  1.04740  1.05285   \n",
      "\n",
      "      bid_o    bid_h    bid_l    bid_c    ask_o    ask_h    ask_l    ask_c  \n",
      "0   1.08843  1.08867  1.08797  1.08859  1.08860  1.08882  1.08813  1.08873  \n",
      "1   1.08859  1.08880  1.08743  1.08765  1.08874  1.08894  1.08759  1.08779  \n",
      "2   1.08765  1.08775  1.08565  1.08619  1.08780  1.08789  1.08582  1.08633  \n",
      "3   1.08618  1.09051  1.08517  1.08854  1.08632  1.09066  1.08531  1.08870  \n",
      "4   1.08857  1.08889  1.08455  1.08517  1.08871  1.08905  1.08471  1.08534  \n",
      "..      ...      ...      ...      ...      ...      ...      ...      ...  \n",
      "95  1.04182  1.04248  1.04073  1.04141  1.04198  1.04262  1.04089  1.04230  \n",
      "96  1.04762  1.05009  1.04619  1.04774  1.04810  1.05023  1.04648  1.04788  \n",
      "97  1.04771  1.04887  1.04738  1.04784  1.04786  1.04903  1.04753  1.04800  \n",
      "98  1.04784  1.04965  1.04483  1.04888  1.04799  1.04980  1.04497  1.04904  \n",
      "99  1.04888  1.05296  1.04733  1.05277  1.04903  1.05312  1.04748  1.05293  \n",
      "\n",
      "[100 rows x 14 columns]\n"
     ]
    }
   ],
   "source": [
    "print(df_plot)"
   ]
  },
  {
   "cell_type": "code",
   "execution_count": null,
   "id": "e82b7f77",
   "metadata": {},
   "outputs": [],
   "source": [
    "df_plot.shape"
   ]
  },
  {
   "cell_type": "code",
   "execution_count": null,
   "id": "fdb6f2c5",
   "metadata": {},
   "outputs": [],
   "source": [
    "cp = CandlePlot(df_plot)"
   ]
  },
  {
   "cell_type": "code",
   "execution_count": null,
   "id": "210c53e5",
   "metadata": {},
   "outputs": [],
   "source": [
    "cp.show_plot()"
   ]
  },
  {
   "cell_type": "code",
   "execution_count": null,
   "id": "1f25826c",
   "metadata": {},
   "outputs": [],
   "source": []
  },
  {
   "cell_type": "code",
   "execution_count": null,
   "id": "43f3bf12",
   "metadata": {},
   "outputs": [],
   "source": []
  },
  {
   "cell_type": "code",
   "execution_count": null,
   "id": "29ec4abb",
   "metadata": {},
   "outputs": [],
   "source": []
  }
 ],
 "metadata": {
  "kernelspec": {
   "display_name": ".venv",
   "language": "python",
   "name": "python3"
  },
  "language_info": {
   "codemirror_mode": {
    "name": "ipython",
    "version": 3
   },
   "file_extension": ".py",
   "mimetype": "text/x-python",
   "name": "python",
   "nbconvert_exporter": "python",
   "pygments_lexer": "ipython3",
   "version": "3.13.0"
  }
 },
 "nbformat": 4,
 "nbformat_minor": 5
}
