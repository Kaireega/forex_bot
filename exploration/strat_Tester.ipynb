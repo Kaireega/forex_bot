{
 "cells": [
  {
   "cell_type": "code",
   "execution_count": 50,
   "id": "d45bb3a8",
   "metadata": {},
   "outputs": [],
   "source": [
    "import sys\n",
    "sys.path.append(\"../\")"
   ]
  },
  {
   "cell_type": "code",
   "execution_count": 51,
   "id": "2276616b",
   "metadata": {},
   "outputs": [],
   "source": [
    "import pandas as pd\n",
    "import datetime as dt\n",
    "from technicals.indicators import RSI, MACD, ATR, BollingerBands\n",
    "from technicals.patterns import apply_patterns\n",
    "from simulation.guru_tester import GuruTester\n",
    "from models.trade_settings import TradeSettings\n",
    "from constants import defs\n",
    "import json\n",
    "# pd.set_option('display.max_rows', None)  # Show all rows\n",
    "# pd.set_option('display.max_columns', None)  # Show all columns\n"
   ]
  },
  {
   "cell_type": "code",
   "execution_count": 52,
   "id": "a0d4271d",
   "metadata": {},
   "outputs": [],
   "source": [
    "BUY = 1\n",
    "SELL = -1\n",
    "NONE = 0\n",
    "RSI_LIMIT = 50.0\n",
    "\n",
    "def apply_signal(row):\n",
    "\n",
    "    \n",
    "    if (\n",
    "            \n",
    "            row.ENGULFING == True and\n",
    "            row.direction == BUY and \n",
    "            row.mid_l > row.EMA_200 and\n",
    "            # row.RSI_14 > RSI_LIMIT and \n",
    "            row.SPREAD <= row.maxspread and\n",
    "            row.GAIN >= row.mingain and\n",
    "            # row.mid_c < row.BB_LW and row.mid_o > row.BB_LW and  # Bollinger Bands condition for BUY\n",
    "            row[f\"RSI_{row.rsi_period}\"] < row.rsi_oversold  and # RSI condition for oversold\n",
    "            row.MACD > row.SIGNAL_MD\n",
    "         \n",
    "        ):\n",
    "       \n",
    "        return BUY\n",
    "    if (\n",
    "            row.direction == SELL and \n",
    "            row.mid_h < row.EMA_200 and\n",
    "            # row.RSI_14 < RSI_LIMIT and \n",
    "            row.SPREAD <= row.maxspread and\n",
    "            row.GAIN >= row.mingain and\n",
    "            # row.mid_c > row.BB_UP and row.mid_o < row.BB_UP and  # Bollinger Bands condition for SELL\n",
    "            row[f\"RSI_{row.rsi_period}\"] > row.rsi_overbought and # RSI condition for overbought\n",
    "            row.MACD < row.SIGNAL_MD\n",
    "        ):\n",
    "        # print(row)\n",
    "        return SELL\n",
    "    \n",
    "    return NONE        "
   ]
  },
  {
   "cell_type": "code",
   "execution_count": 53,
   "id": "d1998fec",
   "metadata": {},
   "outputs": [],
   "source": [
    "def apply_SL(row):\n",
    "    \"\"\"\n",
    "    Calculates the Stop Loss (SL) using ATR for dynamic adjustment based on volatility.\n",
    "    \"\"\"\n",
    "    if row.SIGNAL == defs.BUY:\n",
    "        return row.mid_c - (row[f\"ATR_{row.atr_period}\"] * row.atr_multiplier)\n",
    "    elif row.SIGNAL == defs.SELL:\n",
    "        return row.mid_c + (row[f\"ATR_{row.atr_period}\"] * row.atr_multiplier)\n",
    "    return 0.0\n",
    "\n",
    "\n",
    "def apply_TP(row):\n",
    "    \"\"\"\n",
    "    Calculates the Take Profit (TP) using ATR and risk-reward ratio.\n",
    "    \"\"\"\n",
    "    if row.SIGNAL == defs.BUY:\n",
    "        return row.mid_c + (row[f\"ATR_{row.atr_period}\"] * row.atr_multiplier * row.riskreward)\n",
    "    elif row.SIGNAL == defs.SELL:\n",
    "        return row.mid_c - (row[f\"ATR_{row.atr_period}\"] * row.atr_multiplier * row.riskreward)\n",
    "    return 0.0"
   ]
  },
  {
   "cell_type": "code",
   "execution_count": 54,
   "id": "a10baff5",
   "metadata": {},
   "outputs": [
    {
     "name": "stdout",
     "output_type": "stream",
     "text": [
      "                       time  volume    mid_o    mid_h    mid_l    mid_c  \\\n",
      "0 2020-01-01 22:00:00+00:00      74  1.12124  1.12162  1.12124  1.12152   \n",
      "1 2020-01-01 23:00:00+00:00     266  1.12149  1.12224  1.12149  1.12189   \n",
      "2 2020-01-02 00:00:00+00:00     114  1.12187  1.12192  1.12158  1.12184   \n",
      "3 2020-01-02 01:00:00+00:00     219  1.12186  1.12246  1.12182  1.12209   \n",
      "4 2020-01-02 02:00:00+00:00     137  1.12206  1.12247  1.12185  1.12224   \n",
      "\n",
      "     bid_o    bid_h    bid_l    bid_c    ask_o    ask_h    ask_l    ask_c  \n",
      "0  1.12083  1.12141  1.12075  1.12132  1.12165  1.12205  1.12160  1.12171  \n",
      "1  1.12134  1.12210  1.12134  1.12182  1.12164  1.12260  1.12164  1.12196  \n",
      "2  1.12180  1.12185  1.12152  1.12177  1.12194  1.12198  1.12165  1.12190  \n",
      "3  1.12179  1.12239  1.12175  1.12203  1.12192  1.12253  1.12189  1.12215  \n",
      "4  1.12200  1.12240  1.12177  1.12217  1.12213  1.12255  1.12191  1.12231  \n"
     ]
    }
   ],
   "source": [
    "df_an = pd.read_pickle(f\"../data/EUR_USD_H1.pkl\")\n",
    "print(df_an.head())\n"
   ]
  },
  {
   "cell_type": "code",
   "execution_count": 59,
   "id": "314355c3",
   "metadata": {},
   "outputs": [],
   "source": [
    "\n",
    "def run_pair(pair):\n",
    "        df_an = pd.read_pickle(f\"../data/{pair}_H1.pkl\")\n",
    "        df_m5 = pd.read_pickle(f\"../data/{pair}_M15.pkl\")\n",
    "        df_an.reset_index(drop=True, inplace=True)\n",
    "        df_m5.reset_index(drop=True, inplace=True)\n",
    "        with open(\"../bot/settings.json\", \"r\") as f:\n",
    "                data = json.loads(f.read())\n",
    "                trade_settings = {k: TradeSettings(v, k) for k, v in data['pairs'].items()}\n",
    "                trade_risk = data['trade_risk']\n",
    "        pair_settings = trade_settings[pair]\n",
    "        # print(pair_settings)\n",
    "\n",
    "        df_an['PAIR'] = pair\n",
    "        df_an['SPREAD'] = df_an.ask_c - df_an.bid_c\n",
    "        # print(df_an)\n",
    "\n",
    "\n",
    "        df_an = RSI(df_an)\n",
    "        df_an = BollingerBands(df_an, pair_settings.n_ma, pair_settings.n_std)\n",
    "        df_an = ATR(df_an, pair_settings.atr_period)\n",
    "        df_an = RSI(df_an, pair_settings.rsi_period)\n",
    "        df_an = MACD(df_an)\n",
    "        df_an = apply_patterns(df_an)\n",
    "        df_an['EMA_200'] = df_an.mid_c.ewm(span=200, min_periods=200).mean()\n",
    "        df_an['GAIN'] = abs(df_an.mid_c - df_an.BB_MA)\n",
    "       \n",
    "     \n",
    "        df_an['TRADE_RISK'] = trade_risk\n",
    "        df_an['n_ma'] = pair_settings.n_ma\n",
    "        df_an['n_std'] = pair_settings.n_std\n",
    "        df_an['maxspread']= pair_settings.maxspread\n",
    "        df_an['mingain']= pair_settings.mingain\n",
    "        df_an['riskreward']= pair_settings.riskreward\n",
    "        df_an['atr_period'] = pair_settings.atr_period\n",
    "        df_an['atr_multiplier']= pair_settings.atr_multiplier\n",
    "        df_an['atr_threshold']= pair_settings.atr_threshold\n",
    "        df_an['rsi_period']= pair_settings.rsi_period\n",
    "        df_an['rsi_overbought']= pair_settings.rsi_overbought\n",
    "        df_an['rsi_oversold']= pair_settings.rsi_oversold\n",
    "        df_an['SIGNAL'] = df_an.apply(apply_signal, axis=1)\n",
    "        df_an['SL'] = df_an.apply(apply_SL, axis=1)\n",
    "        df_an['TP'] = df_an.apply(apply_TP, axis=1)\n",
    "        df_an['LOSS'] = abs(df_an.mid_c - df_an.SL)\n",
    "        # print(df_an.head())\n",
    "\n",
    "        our_cols = ['time', 'mid_o', 'mid_h', 'mid_l', 'mid_c',\n",
    "        'bid_o', 'bid_h', 'bid_l', 'bid_c', \n",
    "        'ask_o', 'ask_h', 'ask_l', 'ask_c',\n",
    "        'ENGULFING', 'direction', 'EMA_200','MACD',\n",
    "        'SIGNAL_MD','HIST','RSI_14',f'ATR_{pair_settings.atr_period}', 'BB_UP', 'BB_LW', \n",
    "        'BB_MA','GAIN','SIGNAL','SL','TP','LOSS','SPREAD','PAIR',\n",
    "        'TRADE_RISK','n_ma','n_std','maxspread','mingain','riskreward',\n",
    "        'atr_period','atr_multiplier','atr_threshold','rsi_period','rsi_overbought',\n",
    "        'rsi_oversold']\n",
    "\n",
    "\n",
    "        df_slim = df_an[our_cols].copy()\n",
    "        df_slim.dropna(inplace=True)\n",
    "\n",
    "        df_slim.reset_index(drop=True, inplace=True)\n",
    "        # print(df_slim.head())\n",
    "\n",
    "        gt = GuruTester(\n",
    "        df_slim,\n",
    "        apply_signal,  \n",
    "        df_m5,\n",
    "        use_spread=True\n",
    "        )\n",
    "\n",
    "        gt.run_test()\n",
    "        return gt.df_results.result\n",
    "\n",
    "    "
   ]
  },
  {
   "cell_type": "code",
   "execution_count": 60,
   "id": "8e424fdf",
   "metadata": {},
   "outputs": [
    {
     "name": "stdout",
     "output_type": "stream",
     "text": [
      "run_test...\n"
     ]
    },
    {
     "data": {
      "text/plain": [
       "0    -1.0\n",
       "1    -1.0\n",
       "2     1.5\n",
       "3     1.5\n",
       "4    -1.0\n",
       "5    -1.0\n",
       "6    -1.0\n",
       "7     1.5\n",
       "8    -1.0\n",
       "9    -1.0\n",
       "10   -1.0\n",
       "11   -1.0\n",
       "12   -1.0\n",
       "13    1.5\n",
       "14   -1.0\n",
       "15    1.5\n",
       "16   -1.0\n",
       "17    1.5\n",
       "18   -1.0\n",
       "19   -1.0\n",
       "20    1.5\n",
       "21   -1.0\n",
       "22   -1.0\n",
       "23   -1.0\n",
       "24   -1.0\n",
       "25   -1.0\n",
       "26   -1.0\n",
       "27   -1.0\n",
       "Name: result, dtype: float64"
      ]
     },
     "execution_count": 60,
     "metadata": {},
     "output_type": "execute_result"
    }
   ],
   "source": [
    "run_pair(\"EUR_USD\")"
   ]
  },
  {
   "cell_type": "code",
   "execution_count": 57,
   "id": "36fab442",
   "metadata": {},
   "outputs": [],
   "source": [
    "# res = []\n",
    "# for p in [ \"EUR_USD\", \"GBP_JPY\" ]:\n",
    "#     res.append(dict(pair=p,res=run_pair(p)))"
   ]
  },
  {
   "cell_type": "code",
   "execution_count": 58,
   "id": "d9b1f5f0",
   "metadata": {},
   "outputs": [],
   "source": [
    "# for r in res:\n",
    "#     print(r['pair'], r['res'].result.sum())"
   ]
  },
  {
   "cell_type": "code",
   "execution_count": null,
   "id": "b3aae0b2",
   "metadata": {},
   "outputs": [],
   "source": []
  },
  {
   "cell_type": "code",
   "execution_count": null,
   "id": "990d4bde",
   "metadata": {},
   "outputs": [],
   "source": []
  },
  {
   "cell_type": "code",
   "execution_count": null,
   "id": "3f968cf3",
   "metadata": {},
   "outputs": [],
   "source": []
  }
 ],
 "metadata": {
  "kernelspec": {
   "display_name": ".venv",
   "language": "python",
   "name": "python3"
  },
  "language_info": {
   "codemirror_mode": {
    "name": "ipython",
    "version": 3
   },
   "file_extension": ".py",
   "mimetype": "text/x-python",
   "name": "python",
   "nbconvert_exporter": "python",
   "pygments_lexer": "ipython3",
   "version": "3.13.0"
  }
 },
 "nbformat": 4,
 "nbformat_minor": 5
}
