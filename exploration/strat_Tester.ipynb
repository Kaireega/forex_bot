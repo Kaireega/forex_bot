{
 "cells": [
  {
   "cell_type": "code",
   "execution_count": 1,
   "id": "d45bb3a8",
   "metadata": {},
   "outputs": [],
   "source": [
    "import sys\n",
    "sys.path.append(\"../\")"
   ]
  },
  {
   "cell_type": "code",
   "execution_count": 2,
   "id": "2276616b",
   "metadata": {},
   "outputs": [],
   "source": [
    "import pandas as pd\n",
    "import datetime as dt\n",
    "from technicals.indicators import RSI, MACD, ATR, BollingerBands\n",
    "from technicals.patterns import apply_patterns\n",
    "from simulation.guru_tester import GuruTester\n",
    "from models.trade_settings import TradeSettings\n",
    "from constants import defs\n",
    "import json\n",
    "pd.set_option('display.max_rows', None)  # Show all rows\n",
    "pd.set_option('display.max_columns', None)  # Show all columns\n"
   ]
  },
  {
   "cell_type": "code",
   "execution_count": 3,
   "id": "a0d4271d",
   "metadata": {},
   "outputs": [],
   "source": [
    "BUY = 1\n",
    "SELL = -1\n",
    "NONE = 0\n",
    "RSI_LIMIT = 50.0\n",
    "\n",
    "def apply_signal(row):\n",
    "    \n",
    "    if (\n",
    "            row.ENGULFING == True and\n",
    "            row.direction == BUY and \n",
    "            row.mid_l > row.EMA_200 and\n",
    "            row.RSI_14 > RSI_LIMIT and \n",
    "            row.SPREAD <= row.maxspread and\n",
    "            row.GAIN >= row.mingain and\n",
    "            row.mid_c < row.BB_LW and row.mid_o > row.BB_LW and  # Bollinger Bands condition for BUY\n",
    "            row[f\"RSI_{row.rsi_period}\"] < row.rsi_oversold and  # RSI condition for oversold\n",
    "            row.MACD > row.SIGNAL\n",
    "         \n",
    "        ):\n",
    "        print(row)\n",
    "        return BUY\n",
    "    if (\n",
    "            row.direction == SELL and row.mid_h < row.EMA_200 and\n",
    "            row.RSI_14 < RSI_LIMIT and \n",
    "            row.SPREAD <= row.maxspread and\n",
    "            row.GAIN >= row.mingain and\n",
    "            row.mid_c > row.BB_UP and row.mid_o < row.BB_UP and  # Bollinger Bands condition for SELL\n",
    "            row[f\"RSI_{row.rsi_period}\"] > row.rsi_overbought  and # RSI condition for overbought\n",
    "            row.MACD < row.SIGNAL \n",
    "        ):\n",
    "        print(row)\n",
    "        return SELL\n",
    "    \n",
    "    return NONE        "
   ]
  },
  {
   "cell_type": "code",
   "execution_count": 4,
   "id": "d1998fec",
   "metadata": {},
   "outputs": [],
   "source": [
    "def apply_SL(row ):\n",
    "    \"\"\"\n",
    "    Calculates the Stop Loss (SL) using ATR for dynamic adjustment based on volatility.\n",
    "    \"\"\"\n",
    "    if row.SIGNAL == defs.BUY:\n",
    "        return row.mid_c - (row[f\"ATR_{row.atr_period}\"] * row.atr_multiplier)\n",
    "    elif row.SIGNAL == defs.SELL:\n",
    "        return row.mid_c + (row[f\"ATR_{row.atr_period}\"] * row.atr_multiplier)\n",
    "    return 0.0\n",
    "\n",
    "\n",
    "def apply_TP(row ):\n",
    "    \"\"\"\n",
    "    Calculates the Take Profit (TP) using ATR and risk-reward ratio.\n",
    "    \"\"\"\n",
    "    if row.SIGNAL == defs.BUY:\n",
    "        return row.mid_c + (row[f\"ATR_{row.atr_period}\"] * row.atr_multiplier * row.riskreward)\n",
    "    elif row.SIGNAL == defs.SELL:\n",
    "        return row.mid_c - (row[f\"ATR_{row.atr_period}\"] * row.atr_multiplier * row.riskreward)\n",
    "    return 0.0"
   ]
  },
  {
   "cell_type": "code",
   "execution_count": 5,
   "id": "a10baff5",
   "metadata": {},
   "outputs": [
    {
     "name": "stdout",
     "output_type": "stream",
     "text": [
      "                       time  volume    mid_o    mid_h    mid_l    mid_c  \\\n",
      "0 2020-01-01 22:00:00+00:00      74  1.12124  1.12162  1.12124  1.12152   \n",
      "1 2020-01-01 23:00:00+00:00     266  1.12149  1.12224  1.12149  1.12189   \n",
      "2 2020-01-02 00:00:00+00:00     114  1.12187  1.12192  1.12158  1.12184   \n",
      "3 2020-01-02 01:00:00+00:00     219  1.12186  1.12246  1.12182  1.12209   \n",
      "4 2020-01-02 02:00:00+00:00     137  1.12206  1.12247  1.12185  1.12224   \n",
      "\n",
      "     bid_o    bid_h    bid_l    bid_c    ask_o    ask_h    ask_l    ask_c  \n",
      "0  1.12083  1.12141  1.12075  1.12132  1.12165  1.12205  1.12160  1.12171  \n",
      "1  1.12134  1.12210  1.12134  1.12182  1.12164  1.12260  1.12164  1.12196  \n",
      "2  1.12180  1.12185  1.12152  1.12177  1.12194  1.12198  1.12165  1.12190  \n",
      "3  1.12179  1.12239  1.12175  1.12203  1.12192  1.12253  1.12189  1.12215  \n",
      "4  1.12200  1.12240  1.12177  1.12217  1.12213  1.12255  1.12191  1.12231  \n"
     ]
    }
   ],
   "source": [
    "df_an = pd.read_pickle(f\"../data/EUR_USD_H1.pkl\")\n",
    "print(df_an.head())\n"
   ]
  },
  {
   "cell_type": "code",
   "execution_count": 9,
   "id": "314355c3",
   "metadata": {},
   "outputs": [],
   "source": [
    "\n",
    "\n",
    "\n",
    "def run_pair(pair):\n",
    "        df_an = pd.read_pickle(f\"../data/{pair}_H1.pkl\")\n",
    "        df_m5 = pd.read_pickle(f\"../data/{pair}_M5.pkl\")\n",
    "        df_an.reset_index(drop=True, inplace=True)\n",
    "        df_m5.reset_index(drop=True, inplace=True)\n",
    "        with open(\"../bot/settings.json\", \"r\") as f:\n",
    "                data = json.loads(f.read())\n",
    "                trade_settings = {k: TradeSettings(v, k) for k, v in data['pairs'].items()}\n",
    "                trade_risk = data['trade_risk']\n",
    "        pair_settings = trade_settings[pair]\n",
    "        # print(pair_settings)\n",
    "        # Access the TradeSettings for the given pair\n",
    "\n",
    "        df_an['PAIR'] = pair\n",
    "        df_an['SPREAD'] = df_an.ask_c - df_an.bid_c\n",
    "\n",
    "        df_an = RSI(df_an)\n",
    "        df_an = BollingerBands(df_an, pair_settings.n_ma, pair_settings.n_std)\n",
    "        df_an = ATR(df_an, pair_settings.atr_period)\n",
    "        df_an = RSI(df_an, pair_settings.rsi_period)\n",
    "        df_an = MACD(df_an)\n",
    "        df_an = apply_patterns(df_an)\n",
    "        df_an['EMA_200'] = df_an.mid_c.ewm(span=200, min_periods=200).mean()\n",
    "        df_an['GAIN'] = abs(df_an.mid_c - df_an.BB_MA)\n",
    "        df_an['SIGNAL'] = df_an.apply(apply_signal, axis=1, trade_settings=pair_settings)\n",
    "        df_an['SL'] = df_an.apply(apply_SL, axis=1, trade_settings=pair_settings)\n",
    "        df_an['TP'] = df_an.apply(apply_TP, axis=1, trade_settings=pair_settings)\n",
    "        df_an['LOSS'] = abs(df_an.mid_c - df_an.SL)\n",
    "        df_an['TRADE_RISK'] = trade_risk\n",
    "        df_an['n_ma'] = pair_settings.n_ma\n",
    "        df_an['n_std'] = pair_settings.n_std\n",
    "        df_an['maxspread']= pair_settings.maxspread\n",
    "        df_an['mingain']= pair_settings.mingain\n",
    "        df_an['riskreward']= pair_settings.riskreward\n",
    "        df_an['atr_period'] = pair_settings.atr_period\n",
    "        df_an['atr_multiplier']= pair_settings.atr_multiplier\n",
    "        df_an['atr_threshold']= pair_settings.atr_threshold\n",
    "        df_an['rsi_period']= pair_settings.rsi_period\n",
    "        df_an['rsi_overbought']= pair_settings.rsi_overbought\n",
    "        df_an['rsi_oversold']= pair_settings.rsi_oversold\n",
    "\n",
    "\n",
    "        our_cols = ['time', 'mid_o', 'mid_h', 'mid_l', 'mid_c',\n",
    "        'bid_o', 'bid_h', 'bid_l', 'bid_c', \n",
    "        'ask_o', 'ask_h', 'ask_l', 'ask_c',\n",
    "        'ENGULFING', 'direction', 'EMA_200','MACD',\n",
    "        'SIGNAL_MD','HIST','RSI_14','ATR_14', 'BB_UP', 'BB_LW', \n",
    "        'BB_MA','GAIN','SIGNAL','SL','TP','LOSS','SPREAD','PAIR',\n",
    "        'TRADE_RISK','n_ma','n_std','maxspread','mingain','riskreward',\n",
    "        'atr_period','atr_multiplier','atr_threshold','rsi_period','rsi_overbought',\n",
    "        'rsi_oversold']\n",
    "\n",
    "\n",
    "        df_slim = df_an[our_cols].copy()\n",
    "        df_slim.dropna(inplace=True)\n",
    "\n",
    "        df_slim.reset_index(drop=True, inplace=True)\n",
    "        print(df_slim.head())\n",
    "\n",
    "        # gt = GuruTester(\n",
    "        # df_slim,\n",
    "        # apply_signal,  \n",
    "        # df_m5,\n",
    "        # use_spread=True\n",
    "        # )\n",
    "\n",
    "        # gt.run_test()\n",
    "        # return gt.df_results\n",
    "\n",
    "    "
   ]
  },
  {
   "cell_type": "code",
   "execution_count": 8,
   "id": "8e424fdf",
   "metadata": {},
   "outputs": [
    {
     "ename": "TypeError",
     "evalue": "apply_signal() got an unexpected keyword argument 'trade_settings'",
     "output_type": "error",
     "traceback": [
      "\u001b[0;31m---------------------------------------------------------------------------\u001b[0m",
      "\u001b[0;31mTypeError\u001b[0m                                 Traceback (most recent call last)",
      "Cell \u001b[0;32mIn[8], line 1\u001b[0m\n\u001b[0;32m----> 1\u001b[0m \u001b[43mrun_pair\u001b[49m\u001b[43m(\u001b[49m\u001b[38;5;124;43m\"\u001b[39;49m\u001b[38;5;124;43mEUR_USD\u001b[39;49m\u001b[38;5;124;43m\"\u001b[39;49m\u001b[43m)\u001b[49m\n",
      "Cell \u001b[0;32mIn[7], line 25\u001b[0m, in \u001b[0;36mrun_pair\u001b[0;34m(pair)\u001b[0m\n\u001b[1;32m     23\u001b[0m df_an[\u001b[38;5;124m'\u001b[39m\u001b[38;5;124mEMA_200\u001b[39m\u001b[38;5;124m'\u001b[39m] \u001b[38;5;241m=\u001b[39m df_an\u001b[38;5;241m.\u001b[39mmid_c\u001b[38;5;241m.\u001b[39mewm(span\u001b[38;5;241m=\u001b[39m\u001b[38;5;241m200\u001b[39m, min_periods\u001b[38;5;241m=\u001b[39m\u001b[38;5;241m200\u001b[39m)\u001b[38;5;241m.\u001b[39mmean()\n\u001b[1;32m     24\u001b[0m df_an[\u001b[38;5;124m'\u001b[39m\u001b[38;5;124mGAIN\u001b[39m\u001b[38;5;124m'\u001b[39m] \u001b[38;5;241m=\u001b[39m \u001b[38;5;28mabs\u001b[39m(df_an\u001b[38;5;241m.\u001b[39mmid_c \u001b[38;5;241m-\u001b[39m df_an\u001b[38;5;241m.\u001b[39mBB_MA)\n\u001b[0;32m---> 25\u001b[0m df_an[\u001b[38;5;124m'\u001b[39m\u001b[38;5;124mSIGNAL\u001b[39m\u001b[38;5;124m'\u001b[39m] \u001b[38;5;241m=\u001b[39m \u001b[43mdf_an\u001b[49m\u001b[38;5;241;43m.\u001b[39;49m\u001b[43mapply\u001b[49m\u001b[43m(\u001b[49m\u001b[43mapply_signal\u001b[49m\u001b[43m,\u001b[49m\u001b[43m \u001b[49m\u001b[43maxis\u001b[49m\u001b[38;5;241;43m=\u001b[39;49m\u001b[38;5;241;43m1\u001b[39;49m\u001b[43m,\u001b[49m\u001b[43m \u001b[49m\u001b[43mtrade_settings\u001b[49m\u001b[38;5;241;43m=\u001b[39;49m\u001b[43mpair_settings\u001b[49m\u001b[43m)\u001b[49m\n\u001b[1;32m     26\u001b[0m df_an[\u001b[38;5;124m'\u001b[39m\u001b[38;5;124mSL\u001b[39m\u001b[38;5;124m'\u001b[39m] \u001b[38;5;241m=\u001b[39m df_an\u001b[38;5;241m.\u001b[39mapply(apply_SL, axis\u001b[38;5;241m=\u001b[39m\u001b[38;5;241m1\u001b[39m, trade_settings\u001b[38;5;241m=\u001b[39mpair_settings)\n\u001b[1;32m     27\u001b[0m df_an[\u001b[38;5;124m'\u001b[39m\u001b[38;5;124mTP\u001b[39m\u001b[38;5;124m'\u001b[39m] \u001b[38;5;241m=\u001b[39m df_an\u001b[38;5;241m.\u001b[39mapply(apply_TP, axis\u001b[38;5;241m=\u001b[39m\u001b[38;5;241m1\u001b[39m, trade_settings\u001b[38;5;241m=\u001b[39mpair_settings)\n",
      "File \u001b[0;32m~/Desktop/forex_bot/.venv/lib/python3.13/site-packages/pandas/core/frame.py:10374\u001b[0m, in \u001b[0;36mDataFrame.apply\u001b[0;34m(self, func, axis, raw, result_type, args, by_row, engine, engine_kwargs, **kwargs)\u001b[0m\n\u001b[1;32m  10360\u001b[0m \u001b[38;5;28;01mfrom\u001b[39;00m\u001b[38;5;250m \u001b[39m\u001b[38;5;21;01mpandas\u001b[39;00m\u001b[38;5;21;01m.\u001b[39;00m\u001b[38;5;21;01mcore\u001b[39;00m\u001b[38;5;21;01m.\u001b[39;00m\u001b[38;5;21;01mapply\u001b[39;00m\u001b[38;5;250m \u001b[39m\u001b[38;5;28;01mimport\u001b[39;00m frame_apply\n\u001b[1;32m  10362\u001b[0m op \u001b[38;5;241m=\u001b[39m frame_apply(\n\u001b[1;32m  10363\u001b[0m     \u001b[38;5;28mself\u001b[39m,\n\u001b[1;32m  10364\u001b[0m     func\u001b[38;5;241m=\u001b[39mfunc,\n\u001b[0;32m   (...)\u001b[0m\n\u001b[1;32m  10372\u001b[0m     kwargs\u001b[38;5;241m=\u001b[39mkwargs,\n\u001b[1;32m  10373\u001b[0m )\n\u001b[0;32m> 10374\u001b[0m \u001b[38;5;28;01mreturn\u001b[39;00m \u001b[43mop\u001b[49m\u001b[38;5;241;43m.\u001b[39;49m\u001b[43mapply\u001b[49m\u001b[43m(\u001b[49m\u001b[43m)\u001b[49m\u001b[38;5;241m.\u001b[39m__finalize__(\u001b[38;5;28mself\u001b[39m, method\u001b[38;5;241m=\u001b[39m\u001b[38;5;124m\"\u001b[39m\u001b[38;5;124mapply\u001b[39m\u001b[38;5;124m\"\u001b[39m)\n",
      "File \u001b[0;32m~/Desktop/forex_bot/.venv/lib/python3.13/site-packages/pandas/core/apply.py:916\u001b[0m, in \u001b[0;36mFrameApply.apply\u001b[0;34m(self)\u001b[0m\n\u001b[1;32m    913\u001b[0m \u001b[38;5;28;01melif\u001b[39;00m \u001b[38;5;28mself\u001b[39m\u001b[38;5;241m.\u001b[39mraw:\n\u001b[1;32m    914\u001b[0m     \u001b[38;5;28;01mreturn\u001b[39;00m \u001b[38;5;28mself\u001b[39m\u001b[38;5;241m.\u001b[39mapply_raw(engine\u001b[38;5;241m=\u001b[39m\u001b[38;5;28mself\u001b[39m\u001b[38;5;241m.\u001b[39mengine, engine_kwargs\u001b[38;5;241m=\u001b[39m\u001b[38;5;28mself\u001b[39m\u001b[38;5;241m.\u001b[39mengine_kwargs)\n\u001b[0;32m--> 916\u001b[0m \u001b[38;5;28;01mreturn\u001b[39;00m \u001b[38;5;28;43mself\u001b[39;49m\u001b[38;5;241;43m.\u001b[39;49m\u001b[43mapply_standard\u001b[49m\u001b[43m(\u001b[49m\u001b[43m)\u001b[49m\n",
      "File \u001b[0;32m~/Desktop/forex_bot/.venv/lib/python3.13/site-packages/pandas/core/apply.py:1063\u001b[0m, in \u001b[0;36mFrameApply.apply_standard\u001b[0;34m(self)\u001b[0m\n\u001b[1;32m   1061\u001b[0m \u001b[38;5;28;01mdef\u001b[39;00m\u001b[38;5;250m \u001b[39m\u001b[38;5;21mapply_standard\u001b[39m(\u001b[38;5;28mself\u001b[39m):\n\u001b[1;32m   1062\u001b[0m     \u001b[38;5;28;01mif\u001b[39;00m \u001b[38;5;28mself\u001b[39m\u001b[38;5;241m.\u001b[39mengine \u001b[38;5;241m==\u001b[39m \u001b[38;5;124m\"\u001b[39m\u001b[38;5;124mpython\u001b[39m\u001b[38;5;124m\"\u001b[39m:\n\u001b[0;32m-> 1063\u001b[0m         results, res_index \u001b[38;5;241m=\u001b[39m \u001b[38;5;28;43mself\u001b[39;49m\u001b[38;5;241;43m.\u001b[39;49m\u001b[43mapply_series_generator\u001b[49m\u001b[43m(\u001b[49m\u001b[43m)\u001b[49m\n\u001b[1;32m   1064\u001b[0m     \u001b[38;5;28;01melse\u001b[39;00m:\n\u001b[1;32m   1065\u001b[0m         results, res_index \u001b[38;5;241m=\u001b[39m \u001b[38;5;28mself\u001b[39m\u001b[38;5;241m.\u001b[39mapply_series_numba()\n",
      "File \u001b[0;32m~/Desktop/forex_bot/.venv/lib/python3.13/site-packages/pandas/core/apply.py:1081\u001b[0m, in \u001b[0;36mFrameApply.apply_series_generator\u001b[0;34m(self)\u001b[0m\n\u001b[1;32m   1078\u001b[0m \u001b[38;5;28;01mwith\u001b[39;00m option_context(\u001b[38;5;124m\"\u001b[39m\u001b[38;5;124mmode.chained_assignment\u001b[39m\u001b[38;5;124m\"\u001b[39m, \u001b[38;5;28;01mNone\u001b[39;00m):\n\u001b[1;32m   1079\u001b[0m     \u001b[38;5;28;01mfor\u001b[39;00m i, v \u001b[38;5;129;01min\u001b[39;00m \u001b[38;5;28menumerate\u001b[39m(series_gen):\n\u001b[1;32m   1080\u001b[0m         \u001b[38;5;66;03m# ignore SettingWithCopy here in case the user mutates\u001b[39;00m\n\u001b[0;32m-> 1081\u001b[0m         results[i] \u001b[38;5;241m=\u001b[39m \u001b[38;5;28;43mself\u001b[39;49m\u001b[38;5;241;43m.\u001b[39;49m\u001b[43mfunc\u001b[49m\u001b[43m(\u001b[49m\u001b[43mv\u001b[49m\u001b[43m,\u001b[49m\u001b[43m \u001b[49m\u001b[38;5;241;43m*\u001b[39;49m\u001b[38;5;28;43mself\u001b[39;49m\u001b[38;5;241;43m.\u001b[39;49m\u001b[43margs\u001b[49m\u001b[43m,\u001b[49m\u001b[43m \u001b[49m\u001b[38;5;241;43m*\u001b[39;49m\u001b[38;5;241;43m*\u001b[39;49m\u001b[38;5;28;43mself\u001b[39;49m\u001b[38;5;241;43m.\u001b[39;49m\u001b[43mkwargs\u001b[49m\u001b[43m)\u001b[49m\n\u001b[1;32m   1082\u001b[0m         \u001b[38;5;28;01mif\u001b[39;00m \u001b[38;5;28misinstance\u001b[39m(results[i], ABCSeries):\n\u001b[1;32m   1083\u001b[0m             \u001b[38;5;66;03m# If we have a view on v, we need to make a copy because\u001b[39;00m\n\u001b[1;32m   1084\u001b[0m             \u001b[38;5;66;03m#  series_generator will swap out the underlying data\u001b[39;00m\n\u001b[1;32m   1085\u001b[0m             results[i] \u001b[38;5;241m=\u001b[39m results[i]\u001b[38;5;241m.\u001b[39mcopy(deep\u001b[38;5;241m=\u001b[39m\u001b[38;5;28;01mFalse\u001b[39;00m)\n",
      "\u001b[0;31mTypeError\u001b[0m: apply_signal() got an unexpected keyword argument 'trade_settings'"
     ]
    }
   ],
   "source": [
    "run_pair(\"EUR_USD\")"
   ]
  },
  {
   "cell_type": "code",
   "execution_count": null,
   "id": "36fab442",
   "metadata": {},
   "outputs": [],
   "source": [
    "res = []\n",
    "for p in [ \"EUR_USD\", \"GBP_JPY\" ]:\n",
    "    res.append(dict(pair=p,res=run_pair(p)))"
   ]
  },
  {
   "cell_type": "code",
   "execution_count": null,
   "id": "d9b1f5f0",
   "metadata": {},
   "outputs": [],
   "source": [
    "for r in res:\n",
    "    print(r['pair'], r['res'].result.sum())"
   ]
  },
  {
   "cell_type": "code",
   "execution_count": null,
   "id": "b3aae0b2",
   "metadata": {},
   "outputs": [],
   "source": []
  },
  {
   "cell_type": "code",
   "execution_count": null,
   "id": "990d4bde",
   "metadata": {},
   "outputs": [],
   "source": []
  },
  {
   "cell_type": "code",
   "execution_count": null,
   "id": "3f968cf3",
   "metadata": {},
   "outputs": [],
   "source": []
  }
 ],
 "metadata": {
  "kernelspec": {
   "display_name": ".venv",
   "language": "python",
   "name": "python3"
  },
  "language_info": {
   "codemirror_mode": {
    "name": "ipython",
    "version": 3
   },
   "file_extension": ".py",
   "mimetype": "text/x-python",
   "name": "python",
   "nbconvert_exporter": "python",
   "pygments_lexer": "ipython3",
   "version": "3.13.0"
  }
 },
 "nbformat": 4,
 "nbformat_minor": 5
}
