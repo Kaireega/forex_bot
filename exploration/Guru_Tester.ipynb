{
 "cells": [
  {
   "cell_type": "code",
   "execution_count": 8,
   "id": "d45bb3a8",
   "metadata": {},
   "outputs": [],
   "source": [
    "import sys\n",
    "sys.path.append(\"../\")"
   ]
  },
  {
   "cell_type": "code",
   "execution_count": 15,
   "id": "2276616b",
   "metadata": {},
   "outputs": [],
   "source": [
    "import pandas as pd\n",
    "import datetime as dt\n",
    "from technicals.indicators import RSI, MACD, ATR, BollingerBands\n",
    "from technicals.patterns import apply_patterns\n",
    "from simulation.guru_tester import GuruTester\n",
    "from models.trade_settings import TradeSettings\n",
    "from constants import defs\n",
    "import json\n",
    "pd.set_option('display.max_rows', None)  # Show all rows\n",
    "pd.set_option('display.max_columns', None)  # Show all columns\n"
   ]
  },
  {
   "cell_type": "code",
   "execution_count": 16,
   "id": "a0d4271d",
   "metadata": {},
   "outputs": [],
   "source": [
    "BUY = 1\n",
    "SELL = -1\n",
    "NONE = 0\n",
    "RSI_LIMIT = 50.0\n",
    "\n",
    "def apply_signal(row):\n",
    "    \n",
    "    if (\n",
    "            row.ENGULFING == True and\n",
    "            row.direction == BUY and \n",
    "            row.mid_l > row.EMA_200 and\n",
    "            row.RSI_14 > RSI_LIMIT and \n",
    "            row.SPREAD <= row.maxspread and\n",
    "            row.GAIN >= row.mingain and\n",
    "            row.mid_c < row.BB_LW and row.mid_o > row.BB_LW and  # Bollinger Bands condition for BUY\n",
    "            row[f\"RSI_{row.rsi_period}\"] < row.rsi_oversold and  # RSI condition for oversold\n",
    "            row.MACD > row.SIGNAL\n",
    "         \n",
    "        ):\n",
    "        print(row)\n",
    "        return BUY\n",
    "    if (\n",
    "            row.direction == SELL and row.mid_h < row.EMA_200 and\n",
    "            row.RSI_14 < RSI_LIMIT and \n",
    "            row.SPREAD <= row.maxspread and\n",
    "            row.GAIN >= row.mingain and\n",
    "            row.mid_c > row.BB_UP and row.mid_o < row.BB_UP and  # Bollinger Bands condition for SELL\n",
    "            row[f\"RSI_{row.rsi_period}\"] > row.rsi_overbought  and # RSI condition for overbought\n",
    "            row.MACD < row.SIGNAL \n",
    "        ):\n",
    "        print(row)\n",
    "        return SELL\n",
    "    \n",
    "    return NONE        "
   ]
  },
  {
   "cell_type": "code",
   "execution_count": 17,
   "id": "d1998fec",
   "metadata": {},
   "outputs": [],
   "source": [
    "def apply_SL(row ):\n",
    "    \"\"\"\n",
    "    Calculates the Stop Loss (SL) using ATR for dynamic adjustment based on volatility.\n",
    "    \"\"\"\n",
    "    if row.SIGNAL == defs.BUY:\n",
    "        return row.mid_c - (row[f\"ATR_{row.atr_period}\"] * row.atr_multiplier)\n",
    "    elif row.SIGNAL == defs.SELL:\n",
    "        return row.mid_c + (row[f\"ATR_{row.atr_period}\"] * row.atr_multiplier)\n",
    "    return 0.0\n",
    "\n",
    "\n",
    "def apply_TP(row ):\n",
    "    \"\"\"\n",
    "    Calculates the Take Profit (TP) using ATR and risk-reward ratio.\n",
    "    \"\"\"\n",
    "    if row.SIGNAL == defs.BUY:\n",
    "        return row.mid_c + (row[f\"ATR_{row.atr_period}\"] * row.atr_multiplier * row.riskreward)\n",
    "    elif row.SIGNAL == defs.SELL:\n",
    "        return row.mid_c - (row[f\"ATR_{row.atr_period}\"] * row.atr_multiplier * row.riskreward)\n",
    "    return 0.0"
   ]
  },
  {
   "cell_type": "code",
   "execution_count": null,
   "id": "a10baff5",
   "metadata": {},
   "outputs": [],
   "source": [
    "df_an = pd.read_pickle(f\"../data/EUR_USD_H1.pkl\")\n",
    "print(df_an.head())\n"
   ]
  },
  {
   "cell_type": "code",
   "execution_count": 21,
   "id": "314355c3",
   "metadata": {},
   "outputs": [],
   "source": [
    "\n",
    "\n",
    "\n",
    "def run_pair(pair):\n",
    "        df_an = pd.read_pickle(f\"../data/{pair}_H1.pkl\")\n",
    "        df_m5 = pd.read_pickle(f\"../data/{pair}_M5.pkl\")\n",
    "        df_an.reset_index(drop=True, inplace=True)\n",
    "        df_m5.reset_index(drop=True, inplace=True)\n",
    "        with open(\"../bot/settings.json\", \"r\") as f:\n",
    "                data = json.loads(f.read())\n",
    "                trade_settings = {k: TradeSettings(v, k) for k, v in data['pairs'].items()}\n",
    "                trade_risk = data['trade_risk']\n",
    "        pair_settings = trade_settings[pair]\n",
    "        # print(pair_settings)\n",
    "        # Access the TradeSettings for the given pair\n",
    "\n",
    "        df_an['PAIR'] = pair\n",
    "        df_an['SPREAD'] = df_an.ask_c - df_an.bid_c\n",
    "\n",
    "        df_an = RSI(df_an)\n",
    "        df_an = BollingerBands(df_an, pair_settings.n_ma, pair_settings.n_std)\n",
    "        df_an = ATR(df_an, pair_settings.atr_period)\n",
    "        df_an = RSI(df_an, pair_settings.rsi_period)\n",
    "        df_an = MACD(df_an)\n",
    "        df_an = apply_patterns(df_an)\n",
    "        df_an['EMA_200'] = df_an.mid_c.ewm(span=200, min_periods=200).mean()\n",
    "        df_an['GAIN'] = abs(df_an.mid_c - df_an.BB_MA)\n",
    "        df_an['SIGNAL'] = df_an.apply(apply_signal, axis=1, trade_settings=pair_settings)\n",
    "        df_an['SL'] = df_an.apply(apply_SL, axis=1, trade_settings=pair_settings)\n",
    "        df_an['TP'] = df_an.apply(apply_TP, axis=1, trade_settings=pair_settings)\n",
    "        df_an['LOSS'] = abs(df_an.mid_c - df_an.SL)\n",
    "        df_an['TRADE_RISK'] = trade_risk\n",
    "        df_an['n_ma'] = pair_settings.n_ma\n",
    "        df_an['n_std'] = pair_settings.n_std\n",
    "        df_an['maxspread']= pair_settings.maxspread\n",
    "        df_an['mingain']= pair_settings.mingain\n",
    "        df_an['riskreward']= pair_settings.riskreward\n",
    "        df_an['atr_period'] = pair_settings.atr_period\n",
    "        df_an['atr_multiplier']= pair_settings.atr_multiplier\n",
    "        df_an['atr_threshold']= pair_settings.atr_threshold\n",
    "        df_an['rsi_period']= pair_settings.rsi_period\n",
    "        df_an['rsi_overbought']= pair_settings.rsi_overbought\n",
    "        df_an['rsi_oversold']= pair_settings.rsi_oversold\n",
    "\n",
    "\n",
    "        our_cols = ['time', 'mid_o', 'mid_h', 'mid_l', 'mid_c',\n",
    "        'bid_o', 'bid_h', 'bid_l', 'bid_c', \n",
    "        'ask_o', 'ask_h', 'ask_l', 'ask_c',\n",
    "        'ENGULFING', 'direction', 'EMA_200','MACD',\n",
    "        'SIGNAL_MD','HIST','RSI_14','ATR_14', 'BB_UP', 'BB_LW', \n",
    "        'BB_MA','GAIN','SIGNAL','SL','TP','LOSS','SPREAD','PAIR',\n",
    "        'TRADE_RISK','n_ma','n_std','maxspread','mingain','riskreward',\n",
    "        'atr_period','atr_multiplier','atr_threshold','rsi_period','rsi_overbought',\n",
    "        'rsi_oversold']\n",
    "\n",
    "\n",
    "        df_slim = df_an[our_cols].copy()\n",
    "        df_slim.dropna(inplace=True)\n",
    "\n",
    "        df_slim.reset_index(drop=True, inplace=True)\n",
    "        # print(df_slim.head())\n",
    "\n",
    "        gt = GuruTester(\n",
    "        df_slim,\n",
    "        apply_signal,  \n",
    "        df_m5,\n",
    "        use_spread=True\n",
    "        )\n",
    "\n",
    "        gt.run_test()\n",
    "        return gt.df_results\n",
    "\n",
    "    "
   ]
  },
  {
   "cell_type": "code",
   "execution_count": 22,
   "id": "8e424fdf",
   "metadata": {},
   "outputs": [
    {
     "ename": "KeyError",
     "evalue": "\"['LOSS', 'PAIR'] not in index\"",
     "output_type": "error",
     "traceback": [
      "\u001b[0;31m---------------------------------------------------------------------------\u001b[0m",
      "\u001b[0;31mKeyError\u001b[0m                                  Traceback (most recent call last)",
      "Cell \u001b[0;32mIn[22], line 1\u001b[0m\n\u001b[0;32m----> 1\u001b[0m \u001b[43mrun_pair\u001b[49m\u001b[43m(\u001b[49m\u001b[38;5;124;43m\"\u001b[39;49m\u001b[38;5;124;43mEUR_USD\u001b[39;49m\u001b[38;5;124;43m\"\u001b[39;49m\u001b[43m)\u001b[49m\n",
      "Cell \u001b[0;32mIn[21], line 35\u001b[0m, in \u001b[0;36mrun_pair\u001b[0;34m(pair)\u001b[0m\n\u001b[1;32m     31\u001b[0m df_an[\u001b[38;5;124m'\u001b[39m\u001b[38;5;124mTP\u001b[39m\u001b[38;5;124m'\u001b[39m] \u001b[38;5;241m=\u001b[39m df_an\u001b[38;5;241m.\u001b[39mapply(apply_TP, axis\u001b[38;5;241m=\u001b[39m\u001b[38;5;241m1\u001b[39m)\n\u001b[1;32m     33\u001b[0m \u001b[38;5;66;03m# Run Backtest\u001b[39;00m\n\u001b[1;32m     34\u001b[0m gt \u001b[38;5;241m=\u001b[39m GuruTester(\n\u001b[0;32m---> 35\u001b[0m     \u001b[43mdf_an\u001b[49m\u001b[43m[\u001b[49m\u001b[43m[\u001b[49m\u001b[38;5;124;43m'\u001b[39;49m\u001b[38;5;124;43mtime\u001b[39;49m\u001b[38;5;124;43m'\u001b[39;49m\u001b[43m,\u001b[49m\u001b[43m \u001b[49m\u001b[38;5;124;43m'\u001b[39;49m\u001b[38;5;124;43mmid_o\u001b[39;49m\u001b[38;5;124;43m'\u001b[39;49m\u001b[43m,\u001b[49m\u001b[43m \u001b[49m\u001b[38;5;124;43m'\u001b[39;49m\u001b[38;5;124;43mmid_h\u001b[39;49m\u001b[38;5;124;43m'\u001b[39;49m\u001b[43m,\u001b[49m\u001b[43m \u001b[49m\u001b[38;5;124;43m'\u001b[39;49m\u001b[38;5;124;43mmid_l\u001b[39;49m\u001b[38;5;124;43m'\u001b[39;49m\u001b[43m,\u001b[49m\u001b[43m \u001b[49m\u001b[38;5;124;43m'\u001b[39;49m\u001b[38;5;124;43mmid_c\u001b[39;49m\u001b[38;5;124;43m'\u001b[39;49m\u001b[43m,\u001b[49m\u001b[43m \u001b[49m\u001b[38;5;124;43m'\u001b[39;49m\u001b[38;5;124;43mbid_o\u001b[39;49m\u001b[38;5;124;43m'\u001b[39;49m\u001b[43m,\u001b[49m\u001b[43m \u001b[49m\u001b[38;5;124;43m'\u001b[39;49m\u001b[38;5;124;43mbid_h\u001b[39;49m\u001b[38;5;124;43m'\u001b[39;49m\u001b[43m,\u001b[49m\u001b[43m \u001b[49m\n\u001b[1;32m     36\u001b[0m \u001b[43m          \u001b[49m\u001b[38;5;124;43m'\u001b[39;49m\u001b[38;5;124;43mbid_l\u001b[39;49m\u001b[38;5;124;43m'\u001b[39;49m\u001b[43m,\u001b[49m\u001b[43m \u001b[49m\u001b[38;5;124;43m'\u001b[39;49m\u001b[38;5;124;43mbid_c\u001b[39;49m\u001b[38;5;124;43m'\u001b[39;49m\u001b[43m,\u001b[49m\u001b[43m \u001b[49m\u001b[38;5;124;43m'\u001b[39;49m\u001b[38;5;124;43mask_o\u001b[39;49m\u001b[38;5;124;43m'\u001b[39;49m\u001b[43m,\u001b[49m\u001b[43m \u001b[49m\u001b[38;5;124;43m'\u001b[39;49m\u001b[38;5;124;43mask_h\u001b[39;49m\u001b[38;5;124;43m'\u001b[39;49m\u001b[43m,\u001b[49m\u001b[43m \u001b[49m\u001b[38;5;124;43m'\u001b[39;49m\u001b[38;5;124;43mask_l\u001b[39;49m\u001b[38;5;124;43m'\u001b[39;49m\u001b[43m,\u001b[49m\u001b[43m \u001b[49m\u001b[38;5;124;43m'\u001b[39;49m\u001b[38;5;124;43mask_c\u001b[39;49m\u001b[38;5;124;43m'\u001b[39;49m\u001b[43m,\u001b[49m\u001b[43m \u001b[49m\u001b[38;5;124;43m'\u001b[39;49m\u001b[38;5;124;43mENGULFING\u001b[39;49m\u001b[38;5;124;43m'\u001b[39;49m\u001b[43m,\u001b[49m\n\u001b[1;32m     37\u001b[0m \u001b[43m          \u001b[49m\u001b[38;5;124;43m'\u001b[39;49m\u001b[38;5;124;43mdirection\u001b[39;49m\u001b[38;5;124;43m'\u001b[39;49m\u001b[43m,\u001b[49m\u001b[43m \u001b[49m\u001b[38;5;124;43m'\u001b[39;49m\u001b[38;5;124;43mEMA_200\u001b[39;49m\u001b[38;5;124;43m'\u001b[39;49m\u001b[43m,\u001b[49m\u001b[43m \u001b[49m\u001b[38;5;124;43m'\u001b[39;49m\u001b[38;5;124;43mMACD\u001b[39;49m\u001b[38;5;124;43m'\u001b[39;49m\u001b[43m,\u001b[49m\u001b[43m \u001b[49m\u001b[38;5;124;43m'\u001b[39;49m\u001b[38;5;124;43mSIGNAL_MD\u001b[39;49m\u001b[38;5;124;43m'\u001b[39;49m\u001b[43m,\u001b[49m\u001b[43m \u001b[49m\u001b[38;5;124;43m'\u001b[39;49m\u001b[38;5;124;43mHIST\u001b[39;49m\u001b[38;5;124;43m'\u001b[39;49m\u001b[43m,\u001b[49m\u001b[43m \u001b[49m\u001b[38;5;124;43m'\u001b[39;49m\u001b[38;5;124;43mRSI_14\u001b[39;49m\u001b[38;5;124;43m'\u001b[39;49m\u001b[43m,\u001b[49m\n\u001b[1;32m     38\u001b[0m \u001b[43m          \u001b[49m\u001b[38;5;124;43m'\u001b[39;49m\u001b[38;5;124;43mATR_14\u001b[39;49m\u001b[38;5;124;43m'\u001b[39;49m\u001b[43m,\u001b[49m\u001b[43m \u001b[49m\u001b[38;5;124;43m'\u001b[39;49m\u001b[38;5;124;43mBB_UP\u001b[39;49m\u001b[38;5;124;43m'\u001b[39;49m\u001b[43m,\u001b[49m\u001b[43m \u001b[49m\u001b[38;5;124;43m'\u001b[39;49m\u001b[38;5;124;43mBB_LW\u001b[39;49m\u001b[38;5;124;43m'\u001b[39;49m\u001b[43m,\u001b[49m\u001b[43m \u001b[49m\u001b[38;5;124;43m'\u001b[39;49m\u001b[38;5;124;43mBB_MA\u001b[39;49m\u001b[38;5;124;43m'\u001b[39;49m\u001b[43m,\u001b[49m\u001b[43m \u001b[49m\u001b[38;5;124;43m'\u001b[39;49m\u001b[38;5;124;43mGAIN\u001b[39;49m\u001b[38;5;124;43m'\u001b[39;49m\u001b[43m,\u001b[49m\u001b[43m \u001b[49m\u001b[38;5;124;43m'\u001b[39;49m\u001b[38;5;124;43mSIGNAL\u001b[39;49m\u001b[38;5;124;43m'\u001b[39;49m\u001b[43m,\u001b[49m\u001b[43m \u001b[49m\u001b[38;5;124;43m'\u001b[39;49m\u001b[38;5;124;43mSL\u001b[39;49m\u001b[38;5;124;43m'\u001b[39;49m\u001b[43m,\u001b[49m\u001b[43m \u001b[49m\u001b[38;5;124;43m'\u001b[39;49m\u001b[38;5;124;43mTP\u001b[39;49m\u001b[38;5;124;43m'\u001b[39;49m\u001b[43m,\u001b[49m\n\u001b[1;32m     39\u001b[0m \u001b[43m          \u001b[49m\u001b[38;5;124;43m'\u001b[39;49m\u001b[38;5;124;43mLOSS\u001b[39;49m\u001b[38;5;124;43m'\u001b[39;49m\u001b[43m,\u001b[49m\u001b[43m \u001b[49m\u001b[38;5;124;43m'\u001b[39;49m\u001b[38;5;124;43mSPREAD\u001b[39;49m\u001b[38;5;124;43m'\u001b[39;49m\u001b[43m,\u001b[49m\u001b[43m \u001b[49m\u001b[38;5;124;43m'\u001b[39;49m\u001b[38;5;124;43mPAIR\u001b[39;49m\u001b[38;5;124;43m'\u001b[39;49m\u001b[43m]\u001b[49m\u001b[43m]\u001b[49m,\n\u001b[1;32m     40\u001b[0m     df_m5\n\u001b[1;32m     41\u001b[0m )\n\u001b[1;32m     42\u001b[0m gt\u001b[38;5;241m.\u001b[39mrun_test()\n\u001b[1;32m     43\u001b[0m \u001b[38;5;28;01mreturn\u001b[39;00m gt\u001b[38;5;241m.\u001b[39mdf_results\n",
      "File \u001b[0;32m~/Desktop/forex_bot/.venv/lib/python3.13/site-packages/pandas/core/frame.py:4108\u001b[0m, in \u001b[0;36mDataFrame.__getitem__\u001b[0;34m(self, key)\u001b[0m\n\u001b[1;32m   4106\u001b[0m     \u001b[38;5;28;01mif\u001b[39;00m is_iterator(key):\n\u001b[1;32m   4107\u001b[0m         key \u001b[38;5;241m=\u001b[39m \u001b[38;5;28mlist\u001b[39m(key)\n\u001b[0;32m-> 4108\u001b[0m     indexer \u001b[38;5;241m=\u001b[39m \u001b[38;5;28;43mself\u001b[39;49m\u001b[38;5;241;43m.\u001b[39;49m\u001b[43mcolumns\u001b[49m\u001b[38;5;241;43m.\u001b[39;49m\u001b[43m_get_indexer_strict\u001b[49m\u001b[43m(\u001b[49m\u001b[43mkey\u001b[49m\u001b[43m,\u001b[49m\u001b[43m \u001b[49m\u001b[38;5;124;43m\"\u001b[39;49m\u001b[38;5;124;43mcolumns\u001b[39;49m\u001b[38;5;124;43m\"\u001b[39;49m\u001b[43m)\u001b[49m[\u001b[38;5;241m1\u001b[39m]\n\u001b[1;32m   4110\u001b[0m \u001b[38;5;66;03m# take() does not accept boolean indexers\u001b[39;00m\n\u001b[1;32m   4111\u001b[0m \u001b[38;5;28;01mif\u001b[39;00m \u001b[38;5;28mgetattr\u001b[39m(indexer, \u001b[38;5;124m\"\u001b[39m\u001b[38;5;124mdtype\u001b[39m\u001b[38;5;124m\"\u001b[39m, \u001b[38;5;28;01mNone\u001b[39;00m) \u001b[38;5;241m==\u001b[39m \u001b[38;5;28mbool\u001b[39m:\n",
      "File \u001b[0;32m~/Desktop/forex_bot/.venv/lib/python3.13/site-packages/pandas/core/indexes/base.py:6200\u001b[0m, in \u001b[0;36mIndex._get_indexer_strict\u001b[0;34m(self, key, axis_name)\u001b[0m\n\u001b[1;32m   6197\u001b[0m \u001b[38;5;28;01melse\u001b[39;00m:\n\u001b[1;32m   6198\u001b[0m     keyarr, indexer, new_indexer \u001b[38;5;241m=\u001b[39m \u001b[38;5;28mself\u001b[39m\u001b[38;5;241m.\u001b[39m_reindex_non_unique(keyarr)\n\u001b[0;32m-> 6200\u001b[0m \u001b[38;5;28;43mself\u001b[39;49m\u001b[38;5;241;43m.\u001b[39;49m\u001b[43m_raise_if_missing\u001b[49m\u001b[43m(\u001b[49m\u001b[43mkeyarr\u001b[49m\u001b[43m,\u001b[49m\u001b[43m \u001b[49m\u001b[43mindexer\u001b[49m\u001b[43m,\u001b[49m\u001b[43m \u001b[49m\u001b[43maxis_name\u001b[49m\u001b[43m)\u001b[49m\n\u001b[1;32m   6202\u001b[0m keyarr \u001b[38;5;241m=\u001b[39m \u001b[38;5;28mself\u001b[39m\u001b[38;5;241m.\u001b[39mtake(indexer)\n\u001b[1;32m   6203\u001b[0m \u001b[38;5;28;01mif\u001b[39;00m \u001b[38;5;28misinstance\u001b[39m(key, Index):\n\u001b[1;32m   6204\u001b[0m     \u001b[38;5;66;03m# GH 42790 - Preserve name from an Index\u001b[39;00m\n",
      "File \u001b[0;32m~/Desktop/forex_bot/.venv/lib/python3.13/site-packages/pandas/core/indexes/base.py:6252\u001b[0m, in \u001b[0;36mIndex._raise_if_missing\u001b[0;34m(self, key, indexer, axis_name)\u001b[0m\n\u001b[1;32m   6249\u001b[0m     \u001b[38;5;28;01mraise\u001b[39;00m \u001b[38;5;167;01mKeyError\u001b[39;00m(\u001b[38;5;124mf\u001b[39m\u001b[38;5;124m\"\u001b[39m\u001b[38;5;124mNone of [\u001b[39m\u001b[38;5;132;01m{\u001b[39;00mkey\u001b[38;5;132;01m}\u001b[39;00m\u001b[38;5;124m] are in the [\u001b[39m\u001b[38;5;132;01m{\u001b[39;00maxis_name\u001b[38;5;132;01m}\u001b[39;00m\u001b[38;5;124m]\u001b[39m\u001b[38;5;124m\"\u001b[39m)\n\u001b[1;32m   6251\u001b[0m not_found \u001b[38;5;241m=\u001b[39m \u001b[38;5;28mlist\u001b[39m(ensure_index(key)[missing_mask\u001b[38;5;241m.\u001b[39mnonzero()[\u001b[38;5;241m0\u001b[39m]]\u001b[38;5;241m.\u001b[39munique())\n\u001b[0;32m-> 6252\u001b[0m \u001b[38;5;28;01mraise\u001b[39;00m \u001b[38;5;167;01mKeyError\u001b[39;00m(\u001b[38;5;124mf\u001b[39m\u001b[38;5;124m\"\u001b[39m\u001b[38;5;132;01m{\u001b[39;00mnot_found\u001b[38;5;132;01m}\u001b[39;00m\u001b[38;5;124m not in index\u001b[39m\u001b[38;5;124m\"\u001b[39m)\n",
      "\u001b[0;31mKeyError\u001b[0m: \"['LOSS', 'PAIR'] not in index\""
     ]
    }
   ],
   "source": [
    "run_pair(\"EUR_USD\")"
   ]
  },
  {
   "cell_type": "code",
   "execution_count": null,
   "id": "36fab442",
   "metadata": {},
   "outputs": [],
   "source": [
    "res = []\n",
    "for p in [ \"EUR_USD\", \"GBP_JPY\" ]:\n",
    "    res.append(dict(pair=p,res=run_pair(p)))"
   ]
  },
  {
   "cell_type": "code",
   "execution_count": null,
   "id": "d9b1f5f0",
   "metadata": {},
   "outputs": [],
   "source": [
    "for r in res:\n",
    "    print(r['pair'], r['res'].result.sum())"
   ]
  },
  {
   "cell_type": "code",
   "execution_count": null,
   "id": "b3aae0b2",
   "metadata": {},
   "outputs": [],
   "source": []
  },
  {
   "cell_type": "code",
   "execution_count": null,
   "id": "990d4bde",
   "metadata": {},
   "outputs": [],
   "source": []
  },
  {
   "cell_type": "code",
   "execution_count": null,
   "id": "3f968cf3",
   "metadata": {},
   "outputs": [],
   "source": []
  }
 ],
 "metadata": {
  "kernelspec": {
   "display_name": ".venv",
   "language": "python",
   "name": "python3"
  },
  "language_info": {
   "codemirror_mode": {
    "name": "ipython",
    "version": 3
   },
   "file_extension": ".py",
   "mimetype": "text/x-python",
   "name": "python",
   "nbconvert_exporter": "python",
   "pygments_lexer": "ipython3",
   "version": "3.13.0"
  }
 },
 "nbformat": 4,
 "nbformat_minor": 5
}
