{
 "cells": [
  {
   "cell_type": "code",
   "execution_count": 15,
   "id": "d45bb3a8",
   "metadata": {},
   "outputs": [],
   "source": [
    "import sys\n",
    "sys.path.append(\"../\")"
   ]
  },
  {
   "cell_type": "code",
   "execution_count": 40,
   "id": "2276616b",
   "metadata": {},
   "outputs": [],
   "source": [
    "import pandas as pd\n",
    "import datetime as dt\n",
    "from technicals.indicators import RSI, MACD, ATR, BollingerBands\n",
    "from technicals.patterns import apply_patterns\n",
    "from simulation.guru_tester import GuruTester\n",
    "from models.trade_settings import TradeSettings\n",
    "from constants import defs\n",
    "import json\n",
    "pd.set_option('display.max_rows', None)  # Show all rows\n",
    "pd.set_option('display.max_columns', None)  # Show all columns\n"
   ]
  },
  {
   "cell_type": "code",
   "execution_count": 19,
   "id": "a0d4271d",
   "metadata": {},
   "outputs": [],
   "source": [
    "BUY = 1\n",
    "SELL = -1\n",
    "NONE = 0\n",
    "RSI_LIMIT = 50.0\n",
    "\n",
    "def apply_signal(row, trade_settings: TradeSettings):\n",
    "    if (\n",
    "            row.ENGULFING == True and\n",
    "            row.direction == BUY and \n",
    "            row.mid_l > row.EMA_200 and\n",
    "            row.RSI_14 > RSI_LIMIT and \n",
    "            row.SPREAD <= trade_settings.maxspread and\n",
    "            row.GAIN >= trade_settings.mingain and\n",
    "            row.mid_c < row.BB_LW and row.mid_o > row.BB_LW and  # Bollinger Bands condition for BUY\n",
    "            row[f\"RSI_{trade_settings.rsi_period}\"] < trade_settings.rsi_oversold and  # RSI condition for oversold\n",
    "            row.MACD > row.SIGNAL\n",
    "        ):\n",
    "        return BUY\n",
    "    if (\n",
    "            row.direction == SELL and row.mid_h < row.EMA_200 and\n",
    "            row.RSI_14 < RSI_LIMIT and \n",
    "            row.SPREAD <= trade_settings.maxspread and\n",
    "            row.GAIN >= trade_settings.mingain and\n",
    "            row.mid_c > row.BB_UP and row.mid_o < row.BB_UP and  # Bollinger Bands condition for SELL\n",
    "            row[f\"RSI_{trade_settings.rsi_period}\"] > trade_settings.rsi_overbought  and # RSI condition for overbought\n",
    "            row.MACD < row.SIGNAL \n",
    "        ):\n",
    "        return SELL\n",
    "    \n",
    "    return NONE        "
   ]
  },
  {
   "cell_type": "code",
   "execution_count": 20,
   "id": "d1998fec",
   "metadata": {},
   "outputs": [],
   "source": [
    "def apply_SL(row, trade_settings: TradeSettings):\n",
    "    \"\"\"\n",
    "    Calculates the Stop Loss (SL) using ATR for dynamic adjustment based on volatility.\n",
    "    \"\"\"\n",
    "    if row.SIGNAL == defs.BUY:\n",
    "        return row.mid_c - (row[f\"ATR_{trade_settings.atr_period}\"] * trade_settings.atr_multiplier)\n",
    "    elif row.SIGNAL == defs.SELL:\n",
    "        return row.mid_c + (row[f\"ATR_{trade_settings.atr_period}\"] * trade_settings.atr_multiplier)\n",
    "    return 0.0\n",
    "\n",
    "\n",
    "def apply_TP(row, trade_settings: TradeSettings):\n",
    "    \"\"\"\n",
    "    Calculates the Take Profit (TP) using ATR and risk-reward ratio.\n",
    "    \"\"\"\n",
    "    if row.SIGNAL == defs.BUY:\n",
    "        return row.mid_c + (row[f\"ATR_{trade_settings.atr_period}\"] * trade_settings.atr_multiplier * trade_settings.riskreward)\n",
    "    elif row.SIGNAL == defs.SELL:\n",
    "        return row.mid_c - (row[f\"ATR_{trade_settings.atr_period}\"] * trade_settings.atr_multiplier * trade_settings.riskreward)\n",
    "    return 0.0"
   ]
  },
  {
   "cell_type": "code",
   "execution_count": 29,
   "id": "a10baff5",
   "metadata": {},
   "outputs": [
    {
     "name": "stdout",
     "output_type": "stream",
     "text": [
      "                       time  volume    mid_o    mid_h    mid_l    mid_c  \\\n",
      "0 2020-01-01 22:00:00+00:00      74  1.12124  1.12162  1.12124  1.12152   \n",
      "1 2020-01-01 23:00:00+00:00     266  1.12149  1.12224  1.12149  1.12189   \n",
      "2 2020-01-02 00:00:00+00:00     114  1.12187  1.12192  1.12158  1.12184   \n",
      "3 2020-01-02 01:00:00+00:00     219  1.12186  1.12246  1.12182  1.12209   \n",
      "4 2020-01-02 02:00:00+00:00     137  1.12206  1.12247  1.12185  1.12224   \n",
      "\n",
      "     bid_o    bid_h    bid_l    bid_c    ask_o    ask_h    ask_l    ask_c  \n",
      "0  1.12083  1.12141  1.12075  1.12132  1.12165  1.12205  1.12160  1.12171  \n",
      "1  1.12134  1.12210  1.12134  1.12182  1.12164  1.12260  1.12164  1.12196  \n",
      "2  1.12180  1.12185  1.12152  1.12177  1.12194  1.12198  1.12165  1.12190  \n",
      "3  1.12179  1.12239  1.12175  1.12203  1.12192  1.12253  1.12189  1.12215  \n",
      "4  1.12200  1.12240  1.12177  1.12217  1.12213  1.12255  1.12191  1.12231  \n"
     ]
    }
   ],
   "source": [
    "df_an = pd.read_pickle(f\"../data/EUR_USD_H1.pkl\")\n",
    "print(df_an.head())\n"
   ]
  },
  {
   "cell_type": "code",
   "execution_count": 41,
   "id": "314355c3",
   "metadata": {},
   "outputs": [],
   "source": [
    "\n",
    "\n",
    "\n",
    "def run_pair(pair):\n",
    "        df_an = pd.read_pickle(f\"../data/{pair}_H1.pkl\")\n",
    "        df_m5 = pd.read_pickle(f\"../data/{pair}_M5.pkl\")\n",
    "        df_an.reset_index(drop=True, inplace=True)\n",
    "        df_m5.reset_index(drop=True, inplace=True)\n",
    "        with open(\"../bot/settings.json\", \"r\") as f:\n",
    "                data = json.loads(f.read())\n",
    "                trade_settings = {k: TradeSettings(v, k) for k, v in data['pairs'].items()}\n",
    "                trade_risk = data['trade_risk']\n",
    "        pair_settings = trade_settings[pair]\n",
    "        # Access the TradeSettings for the given pair\n",
    "\n",
    "        df_an['PAIR'] = pair\n",
    "        df_an['SPREAD'] = df_an.ask_c - df_an.bid_c\n",
    "\n",
    "        df_an = RSI(df_an)\n",
    "        df_an = BollingerBands(df_an, pair_settings.n_ma, pair_settings.n_std)\n",
    "        df_an = ATR(df_an, pair_settings.atr_period)\n",
    "        df_an = RSI(df_an, pair_settings.rsi_period)\n",
    "        df_an = MACD(df_an)\n",
    "        df_an = apply_patterns(df_an)\n",
    "        df_an['EMA_200'] = df_an.mid_c.ewm(span=200, min_periods=200).mean()\n",
    "        df_an['GAIN'] = abs(df_an.mid_c - df_an.BB_MA)\n",
    "        df_an['SIGNAL'] = df_an.apply(apply_signal, axis=1, trade_settings=pair_settings)\n",
    "        df_an['SL'] = df_an.apply(apply_SL, axis=1, trade_settings=pair_settings)\n",
    "        df_an['TP'] = df_an.apply(apply_TP, axis=1, trade_settings=pair_settings)\n",
    "        df_an['LOSS'] = abs(df_an.mid_c - df_an.SL)\n",
    "        df_an['TRADE_RISK'] = trade_risk\n",
    "\n",
    "        our_cols = ['time', 'mid_o', 'mid_h', 'mid_l', 'mid_c',\n",
    "        'bid_o', 'bid_h', 'bid_l', 'bid_c', \n",
    "        'ask_o', 'ask_h', 'ask_l', 'ask_c',\n",
    "        'ENGULFING', 'direction', 'EMA_200', 'RSI_14','MACD',\n",
    "        'SIGNAL_MD','HIST','RSI_14','ATR_14', 'BB_UP', 'BB_LW', \n",
    "        'BB_MA','GAIN','SIGNAL','SL','TP','LOSS','SPREAD','PAIR','TRADE_RISK']\n",
    "\n",
    "\n",
    "        df_slim = df_an[our_cols].copy()\n",
    "        df_slim.dropna(inplace=True)\n",
    "\n",
    "        df_slim.reset_index(drop=True, inplace=True)\n",
    "        print(df_slim)\n",
    "\n",
    "#     gt = GuruTester(\n",
    "#         df_slim,\n",
    "#         apply_signal,\n",
    "#         df_m5,\n",
    "#         use_spread=True\n",
    "#     )\n",
    "    \n",
    "#     gt.run_test()\n",
    "#     return gt.df_results\n",
    "\n",
    "    "
   ]
  },
  {
   "cell_type": "code",
   "execution_count": null,
   "id": "8e424fdf",
   "metadata": {},
   "outputs": [],
   "source": [
    "run_pair(\"EUR_USD\")"
   ]
  },
  {
   "cell_type": "code",
   "execution_count": null,
   "id": "36fab442",
   "metadata": {},
   "outputs": [],
   "source": [
    "res = []\n",
    "for p in [ \"EUR_USD\", \"GBP_JPY\" ]:\n",
    "    res.append(dict(pair=p,res=run_pair(p)))"
   ]
  },
  {
   "cell_type": "code",
   "execution_count": 7,
   "id": "d9b1f5f0",
   "metadata": {},
   "outputs": [
    {
     "name": "stdout",
     "output_type": "stream",
     "text": [
      "EUR_USD -891.5\n",
      "GBP_JPY -761.0\n"
     ]
    }
   ],
   "source": [
    "for r in res:\n",
    "    print(r['pair'], r['res'].result.sum())"
   ]
  },
  {
   "cell_type": "code",
   "execution_count": null,
   "id": "b3aae0b2",
   "metadata": {},
   "outputs": [],
   "source": []
  },
  {
   "cell_type": "code",
   "execution_count": null,
   "id": "990d4bde",
   "metadata": {},
   "outputs": [],
   "source": []
  },
  {
   "cell_type": "code",
   "execution_count": null,
   "id": "3f968cf3",
   "metadata": {},
   "outputs": [],
   "source": []
  }
 ],
 "metadata": {
  "kernelspec": {
   "display_name": ".venv",
   "language": "python",
   "name": "python3"
  },
  "language_info": {
   "codemirror_mode": {
    "name": "ipython",
    "version": 3
   },
   "file_extension": ".py",
   "mimetype": "text/x-python",
   "name": "python",
   "nbconvert_exporter": "python",
   "pygments_lexer": "ipython3",
   "version": "3.13.0"
  }
 },
 "nbformat": 4,
 "nbformat_minor": 5
}
