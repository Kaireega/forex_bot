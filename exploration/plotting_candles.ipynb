{
 "cells": [
  {
   "cell_type": "code",
   "execution_count": 1,
   "id": "5fed330a",
   "metadata": {},
   "outputs": [],
   "source": [
    "import pandas as pd\n",
    "import plotly.graph_objects as go\n",
    "import datetime as dt"
   ]
  },
  {
   "cell_type": "code",
   "execution_count": 2,
   "id": "b19a3cf7",
   "metadata": {},
   "outputs": [],
   "source": [
    "pair = \"EUR_USD\"\n",
    "granularity = \"H1\"\n",
    "df = pd.read_pickle(f\"../data/{pair}_{granularity}.pkl\")"
   ]
  },
  {
   "cell_type": "code",
   "execution_count": 3,
   "id": "df3f6e66",
   "metadata": {},
   "outputs": [
    {
     "data": {
      "text/html": [
       "<div>\n",
       "<style scoped>\n",
       "    .dataframe tbody tr th:only-of-type {\n",
       "        vertical-align: middle;\n",
       "    }\n",
       "\n",
       "    .dataframe tbody tr th {\n",
       "        vertical-align: top;\n",
       "    }\n",
       "\n",
       "    .dataframe thead th {\n",
       "        text-align: right;\n",
       "    }\n",
       "</style>\n",
       "<table border=\"1\" class=\"dataframe\">\n",
       "  <thead>\n",
       "    <tr style=\"text-align: right;\">\n",
       "      <th></th>\n",
       "      <th>time</th>\n",
       "      <th>volume</th>\n",
       "      <th>mid_o</th>\n",
       "      <th>mid_h</th>\n",
       "      <th>mid_l</th>\n",
       "      <th>mid_c</th>\n",
       "      <th>bid_o</th>\n",
       "      <th>bid_h</th>\n",
       "      <th>bid_l</th>\n",
       "      <th>bid_c</th>\n",
       "      <th>ask_o</th>\n",
       "      <th>ask_h</th>\n",
       "      <th>ask_l</th>\n",
       "      <th>ask_c</th>\n",
       "    </tr>\n",
       "  </thead>\n",
       "  <tbody>\n",
       "    <tr>\n",
       "      <th>31522</th>\n",
       "      <td>2025-01-23 19:00:00+00:00</td>\n",
       "      <td>4988</td>\n",
       "      <td>1.04240</td>\n",
       "      <td>1.04268</td>\n",
       "      <td>1.04200</td>\n",
       "      <td>1.04231</td>\n",
       "      <td>1.04232</td>\n",
       "      <td>1.04261</td>\n",
       "      <td>1.04192</td>\n",
       "      <td>1.04223</td>\n",
       "      <td>1.04248</td>\n",
       "      <td>1.04276</td>\n",
       "      <td>1.04207</td>\n",
       "      <td>1.04239</td>\n",
       "    </tr>\n",
       "    <tr>\n",
       "      <th>31523</th>\n",
       "      <td>2025-01-23 20:00:00+00:00</td>\n",
       "      <td>4683</td>\n",
       "      <td>1.04232</td>\n",
       "      <td>1.04292</td>\n",
       "      <td>1.04159</td>\n",
       "      <td>1.04176</td>\n",
       "      <td>1.04225</td>\n",
       "      <td>1.04285</td>\n",
       "      <td>1.04151</td>\n",
       "      <td>1.04168</td>\n",
       "      <td>1.04239</td>\n",
       "      <td>1.04299</td>\n",
       "      <td>1.04166</td>\n",
       "      <td>1.04183</td>\n",
       "    </tr>\n",
       "    <tr>\n",
       "      <th>31524</th>\n",
       "      <td>2025-01-23 21:00:00+00:00</td>\n",
       "      <td>1858</td>\n",
       "      <td>1.04177</td>\n",
       "      <td>1.04194</td>\n",
       "      <td>1.04129</td>\n",
       "      <td>1.04156</td>\n",
       "      <td>1.04169</td>\n",
       "      <td>1.04186</td>\n",
       "      <td>1.04121</td>\n",
       "      <td>1.04147</td>\n",
       "      <td>1.04185</td>\n",
       "      <td>1.04202</td>\n",
       "      <td>1.04137</td>\n",
       "      <td>1.04165</td>\n",
       "    </tr>\n",
       "    <tr>\n",
       "      <th>31525</th>\n",
       "      <td>2025-01-23 22:00:00+00:00</td>\n",
       "      <td>1258</td>\n",
       "      <td>1.04169</td>\n",
       "      <td>1.04191</td>\n",
       "      <td>1.04138</td>\n",
       "      <td>1.04170</td>\n",
       "      <td>1.04127</td>\n",
       "      <td>1.04174</td>\n",
       "      <td>1.04118</td>\n",
       "      <td>1.04154</td>\n",
       "      <td>1.04211</td>\n",
       "      <td>1.04216</td>\n",
       "      <td>1.04150</td>\n",
       "      <td>1.04186</td>\n",
       "    </tr>\n",
       "    <tr>\n",
       "      <th>31526</th>\n",
       "      <td>2025-01-23 23:00:00+00:00</td>\n",
       "      <td>890</td>\n",
       "      <td>1.04168</td>\n",
       "      <td>1.04178</td>\n",
       "      <td>1.04146</td>\n",
       "      <td>1.04158</td>\n",
       "      <td>1.04153</td>\n",
       "      <td>1.04171</td>\n",
       "      <td>1.04138</td>\n",
       "      <td>1.04150</td>\n",
       "      <td>1.04182</td>\n",
       "      <td>1.04193</td>\n",
       "      <td>1.04153</td>\n",
       "      <td>1.04165</td>\n",
       "    </tr>\n",
       "  </tbody>\n",
       "</table>\n",
       "</div>"
      ],
      "text/plain": [
       "                           time  volume    mid_o    mid_h    mid_l    mid_c  \\\n",
       "31522 2025-01-23 19:00:00+00:00    4988  1.04240  1.04268  1.04200  1.04231   \n",
       "31523 2025-01-23 20:00:00+00:00    4683  1.04232  1.04292  1.04159  1.04176   \n",
       "31524 2025-01-23 21:00:00+00:00    1858  1.04177  1.04194  1.04129  1.04156   \n",
       "31525 2025-01-23 22:00:00+00:00    1258  1.04169  1.04191  1.04138  1.04170   \n",
       "31526 2025-01-23 23:00:00+00:00     890  1.04168  1.04178  1.04146  1.04158   \n",
       "\n",
       "         bid_o    bid_h    bid_l    bid_c    ask_o    ask_h    ask_l    ask_c  \n",
       "31522  1.04232  1.04261  1.04192  1.04223  1.04248  1.04276  1.04207  1.04239  \n",
       "31523  1.04225  1.04285  1.04151  1.04168  1.04239  1.04299  1.04166  1.04183  \n",
       "31524  1.04169  1.04186  1.04121  1.04147  1.04185  1.04202  1.04137  1.04165  \n",
       "31525  1.04127  1.04174  1.04118  1.04154  1.04211  1.04216  1.04150  1.04186  \n",
       "31526  1.04153  1.04171  1.04138  1.04150  1.04182  1.04193  1.04153  1.04165  "
      ]
     },
     "execution_count": 3,
     "metadata": {},
     "output_type": "execute_result"
    }
   ],
   "source": [
    "df.tail()"
   ]
  },
  {
   "cell_type": "code",
   "execution_count": 4,
   "id": "d438e633",
   "metadata": {},
   "outputs": [],
   "source": [
    "df['sTime'] = [dt.datetime.strftime(x, \"s%y-%m-%d %H:%M\") for x in df.time]"
   ]
  },
  {
   "cell_type": "code",
   "execution_count": 5,
   "id": "2046e30d",
   "metadata": {},
   "outputs": [],
   "source": [
    "df_plot = df.iloc[:100]"
   ]
  },
  {
   "cell_type": "code",
   "execution_count": 6,
   "id": "0a1c446f",
   "metadata": {},
   "outputs": [
    {
     "data": {
      "application/vnd.plotly.v1+json": {
       "config": {
        "plotlyServerURL": "https://plot.ly"
       },
       "data": [
        {
         "close": [
          1.12152,
          1.12189,
          1.12184,
          1.12209,
          1.12224,
          1.12132,
          1.12012,
          1.12044,
          1.12076,
          1.12098,
          1.12122,
          1.12032,
          1.11984,
          1.11848,
          1.11932,
          1.11966,
          1.11742,
          1.12006,
          1.11664,
          1.117,
          1.11704,
          1.11664,
          1.11692,
          1.11728,
          1.1172,
          1.1171,
          1.11755,
          1.11736,
          1.11728,
          1.11722,
          1.11702,
          1.11664,
          1.11692,
          1.11534,
          1.11511,
          1.11402,
          1.11362,
          1.113,
          1.11393,
          1.11382,
          1.11526,
          1.11634,
          1.11721,
          1.11724,
          1.1167,
          1.11675,
          1.11616,
          1.11592,
          1.11597,
          1.11605,
          1.11636,
          1.11628,
          1.11655,
          1.11658,
          1.11644,
          1.11624,
          1.11608,
          1.11646,
          1.11789,
          1.11934,
          1.11963,
          1.12032,
          1.1198,
          1.11976,
          1.11832,
          1.11888,
          1.11872,
          1.11952,
          1.11919,
          1.11912,
          1.11936,
          1.11972,
          1.11958,
          1.11955,
          1.11898,
          1.11934,
          1.11916,
          1.11923,
          1.11909,
          1.11831,
          1.11816,
          1.11742,
          1.11847,
          1.1185,
          1.11762,
          1.11818,
          1.11748,
          1.11562,
          1.1148,
          1.11418,
          1.1137,
          1.11426,
          1.11435,
          1.11448,
          1.11438,
          1.11512,
          1.11478,
          1.1154,
          1.11589,
          1.11557
         ],
         "decreasing": {
          "fillcolor": "#CC2E3C",
          "line": {
           "color": "#FF3A4C"
          }
         },
         "high": [
          1.12162,
          1.12224,
          1.12192,
          1.12246,
          1.12247,
          1.12232,
          1.12142,
          1.12044,
          1.12076,
          1.12102,
          1.12138,
          1.1214,
          1.12039,
          1.12022,
          1.11943,
          1.11972,
          1.11965,
          1.12025,
          1.1203,
          1.11718,
          1.11722,
          1.11704,
          1.11716,
          1.11736,
          1.11731,
          1.11735,
          1.1176,
          1.11784,
          1.11774,
          1.11736,
          1.1175,
          1.11705,
          1.11696,
          1.11718,
          1.11604,
          1.11522,
          1.11433,
          1.1136,
          1.11426,
          1.11488,
          1.11542,
          1.11676,
          1.11799,
          1.1174,
          1.11734,
          1.1168,
          1.11673,
          1.1162,
          1.11684,
          1.11676,
          1.11684,
          1.11654,
          1.1167,
          1.1171,
          1.11662,
          1.1165,
          1.11626,
          1.11667,
          1.11799,
          1.11936,
          1.11996,
          1.12056,
          1.12044,
          1.12032,
          1.12002,
          1.11902,
          1.11898,
          1.11961,
          1.11979,
          1.11928,
          1.11938,
          1.11992,
          1.11965,
          1.11974,
          1.11954,
          1.11971,
          1.11934,
          1.11944,
          1.11935,
          1.11925,
          1.11898,
          1.11854,
          1.11876,
          1.11896,
          1.1186,
          1.11849,
          1.11834,
          1.11778,
          1.11624,
          1.11517,
          1.11441,
          1.11474,
          1.11497,
          1.1145,
          1.11477,
          1.1153,
          1.11521,
          1.11544,
          1.11684,
          1.11633
         ],
         "increasing": {
          "fillcolor": "#24A06B",
          "line": {
           "color": "#2EC886"
          }
         },
         "line": {
          "width": 1
         },
         "low": [
          1.12124,
          1.12149,
          1.12158,
          1.12182,
          1.12185,
          1.12124,
          1.1201,
          1.12011,
          1.12039,
          1.12044,
          1.12051,
          1.12013,
          1.1193,
          1.11844,
          1.1183,
          1.11899,
          1.11704,
          1.11709,
          1.11653,
          1.11636,
          1.11636,
          1.11644,
          1.11659,
          1.11691,
          1.11704,
          1.11702,
          1.117,
          1.11722,
          1.1172,
          1.11697,
          1.11688,
          1.11644,
          1.11641,
          1.11523,
          1.11508,
          1.11401,
          1.11308,
          1.11249,
          1.11283,
          1.11374,
          1.11354,
          1.11529,
          1.11626,
          1.11678,
          1.1166,
          1.11614,
          1.11601,
          1.11526,
          1.11596,
          1.11596,
          1.11602,
          1.11615,
          1.11626,
          1.11658,
          1.11618,
          1.11606,
          1.11573,
          1.11599,
          1.11633,
          1.11752,
          1.11901,
          1.11963,
          1.11952,
          1.11911,
          1.11826,
          1.11822,
          1.1181,
          1.11843,
          1.11916,
          1.1188,
          1.1189,
          1.1193,
          1.11948,
          1.11942,
          1.11892,
          1.11896,
          1.11911,
          1.11914,
          1.11906,
          1.11828,
          1.1181,
          1.11732,
          1.11727,
          1.11806,
          1.1165,
          1.11722,
          1.1171,
          1.11548,
          1.11466,
          1.11344,
          1.11336,
          1.11372,
          1.11415,
          1.11418,
          1.11424,
          1.1144,
          1.11444,
          1.11466,
          1.11525,
          1.11548
         ],
         "opacity": 1,
         "open": [
          1.12124,
          1.12149,
          1.12187,
          1.12186,
          1.12206,
          1.12222,
          1.12135,
          1.12014,
          1.12044,
          1.12079,
          1.121,
          1.12119,
          1.12034,
          1.11986,
          1.11846,
          1.1193,
          1.11962,
          1.1174,
          1.12008,
          1.11662,
          1.11702,
          1.11702,
          1.11666,
          1.11694,
          1.11728,
          1.11722,
          1.11707,
          1.11758,
          1.11738,
          1.11725,
          1.11724,
          1.11704,
          1.11664,
          1.11694,
          1.11537,
          1.11513,
          1.11404,
          1.1136,
          1.11298,
          1.1139,
          1.1138,
          1.11529,
          1.11636,
          1.11724,
          1.11722,
          1.11668,
          1.11673,
          1.11614,
          1.11665,
          1.116,
          1.11602,
          1.11639,
          1.1163,
          1.11658,
          1.1166,
          1.11646,
          1.11624,
          1.11605,
          1.11649,
          1.11787,
          1.11931,
          1.11965,
          1.1203,
          1.11983,
          1.11978,
          1.11836,
          1.1189,
          1.1187,
          1.11954,
          1.11917,
          1.11915,
          1.11934,
          1.1195,
          1.1196,
          1.11953,
          1.11896,
          1.11932,
          1.11914,
          1.1192,
          1.11912,
          1.11831,
          1.11819,
          1.11744,
          1.11849,
          1.11847,
          1.11765,
          1.1182,
          1.1175,
          1.1156,
          1.11482,
          1.11415,
          1.11372,
          1.11424,
          1.11437,
          1.11446,
          1.1144,
          1.11506,
          1.11474,
          1.11536,
          1.11591
         ],
         "type": "candlestick",
         "x": [
          "s20-01-01 22:00",
          "s20-01-01 23:00",
          "s20-01-02 00:00",
          "s20-01-02 01:00",
          "s20-01-02 02:00",
          "s20-01-02 03:00",
          "s20-01-02 04:00",
          "s20-01-02 05:00",
          "s20-01-02 06:00",
          "s20-01-02 07:00",
          "s20-01-02 08:00",
          "s20-01-02 09:00",
          "s20-01-02 10:00",
          "s20-01-02 11:00",
          "s20-01-02 12:00",
          "s20-01-02 13:00",
          "s20-01-02 14:00",
          "s20-01-02 15:00",
          "s20-01-02 16:00",
          "s20-01-02 17:00",
          "s20-01-02 18:00",
          "s20-01-02 19:00",
          "s20-01-02 20:00",
          "s20-01-02 21:00",
          "s20-01-02 22:00",
          "s20-01-02 23:00",
          "s20-01-03 00:00",
          "s20-01-03 01:00",
          "s20-01-03 02:00",
          "s20-01-03 03:00",
          "s20-01-03 04:00",
          "s20-01-03 05:00",
          "s20-01-03 06:00",
          "s20-01-03 07:00",
          "s20-01-03 08:00",
          "s20-01-03 09:00",
          "s20-01-03 10:00",
          "s20-01-03 11:00",
          "s20-01-03 12:00",
          "s20-01-03 13:00",
          "s20-01-03 14:00",
          "s20-01-03 15:00",
          "s20-01-03 16:00",
          "s20-01-03 17:00",
          "s20-01-03 18:00",
          "s20-01-03 19:00",
          "s20-01-03 20:00",
          "s20-01-03 21:00",
          "s20-01-05 22:00",
          "s20-01-05 23:00",
          "s20-01-06 00:00",
          "s20-01-06 01:00",
          "s20-01-06 02:00",
          "s20-01-06 03:00",
          "s20-01-06 04:00",
          "s20-01-06 05:00",
          "s20-01-06 06:00",
          "s20-01-06 07:00",
          "s20-01-06 08:00",
          "s20-01-06 09:00",
          "s20-01-06 10:00",
          "s20-01-06 11:00",
          "s20-01-06 12:00",
          "s20-01-06 13:00",
          "s20-01-06 14:00",
          "s20-01-06 15:00",
          "s20-01-06 16:00",
          "s20-01-06 17:00",
          "s20-01-06 18:00",
          "s20-01-06 19:00",
          "s20-01-06 20:00",
          "s20-01-06 21:00",
          "s20-01-06 22:00",
          "s20-01-06 23:00",
          "s20-01-07 00:00",
          "s20-01-07 01:00",
          "s20-01-07 02:00",
          "s20-01-07 03:00",
          "s20-01-07 04:00",
          "s20-01-07 05:00",
          "s20-01-07 06:00",
          "s20-01-07 07:00",
          "s20-01-07 08:00",
          "s20-01-07 09:00",
          "s20-01-07 10:00",
          "s20-01-07 11:00",
          "s20-01-07 12:00",
          "s20-01-07 13:00",
          "s20-01-07 14:00",
          "s20-01-07 15:00",
          "s20-01-07 16:00",
          "s20-01-07 17:00",
          "s20-01-07 18:00",
          "s20-01-07 19:00",
          "s20-01-07 20:00",
          "s20-01-07 21:00",
          "s20-01-07 22:00",
          "s20-01-07 23:00",
          "s20-01-08 00:00",
          "s20-01-08 01:00"
         ]
        }
       ],
       "layout": {
        "font": {
         "color": "#e1e1e1",
         "size": 8
        },
        "height": 400,
        "margin": {
         "b": 10,
         "l": 10,
         "r": 10,
         "t": 10
        },
        "paper_bgcolor": "#2c303c",
        "plot_bgcolor": "#2c303c",
        "template": {
         "data": {
          "bar": [
           {
            "error_x": {
             "color": "#2a3f5f"
            },
            "error_y": {
             "color": "#2a3f5f"
            },
            "marker": {
             "line": {
              "color": "#E5ECF6",
              "width": 0.5
             },
             "pattern": {
              "fillmode": "overlay",
              "size": 10,
              "solidity": 0.2
             }
            },
            "type": "bar"
           }
          ],
          "barpolar": [
           {
            "marker": {
             "line": {
              "color": "#E5ECF6",
              "width": 0.5
             },
             "pattern": {
              "fillmode": "overlay",
              "size": 10,
              "solidity": 0.2
             }
            },
            "type": "barpolar"
           }
          ],
          "carpet": [
           {
            "aaxis": {
             "endlinecolor": "#2a3f5f",
             "gridcolor": "white",
             "linecolor": "white",
             "minorgridcolor": "white",
             "startlinecolor": "#2a3f5f"
            },
            "baxis": {
             "endlinecolor": "#2a3f5f",
             "gridcolor": "white",
             "linecolor": "white",
             "minorgridcolor": "white",
             "startlinecolor": "#2a3f5f"
            },
            "type": "carpet"
           }
          ],
          "choropleth": [
           {
            "colorbar": {
             "outlinewidth": 0,
             "ticks": ""
            },
            "type": "choropleth"
           }
          ],
          "contour": [
           {
            "colorbar": {
             "outlinewidth": 0,
             "ticks": ""
            },
            "colorscale": [
             [
              0,
              "#0d0887"
             ],
             [
              0.1111111111111111,
              "#46039f"
             ],
             [
              0.2222222222222222,
              "#7201a8"
             ],
             [
              0.3333333333333333,
              "#9c179e"
             ],
             [
              0.4444444444444444,
              "#bd3786"
             ],
             [
              0.5555555555555556,
              "#d8576b"
             ],
             [
              0.6666666666666666,
              "#ed7953"
             ],
             [
              0.7777777777777778,
              "#fb9f3a"
             ],
             [
              0.8888888888888888,
              "#fdca26"
             ],
             [
              1,
              "#f0f921"
             ]
            ],
            "type": "contour"
           }
          ],
          "contourcarpet": [
           {
            "colorbar": {
             "outlinewidth": 0,
             "ticks": ""
            },
            "type": "contourcarpet"
           }
          ],
          "heatmap": [
           {
            "colorbar": {
             "outlinewidth": 0,
             "ticks": ""
            },
            "colorscale": [
             [
              0,
              "#0d0887"
             ],
             [
              0.1111111111111111,
              "#46039f"
             ],
             [
              0.2222222222222222,
              "#7201a8"
             ],
             [
              0.3333333333333333,
              "#9c179e"
             ],
             [
              0.4444444444444444,
              "#bd3786"
             ],
             [
              0.5555555555555556,
              "#d8576b"
             ],
             [
              0.6666666666666666,
              "#ed7953"
             ],
             [
              0.7777777777777778,
              "#fb9f3a"
             ],
             [
              0.8888888888888888,
              "#fdca26"
             ],
             [
              1,
              "#f0f921"
             ]
            ],
            "type": "heatmap"
           }
          ],
          "heatmapgl": [
           {
            "colorbar": {
             "outlinewidth": 0,
             "ticks": ""
            },
            "colorscale": [
             [
              0,
              "#0d0887"
             ],
             [
              0.1111111111111111,
              "#46039f"
             ],
             [
              0.2222222222222222,
              "#7201a8"
             ],
             [
              0.3333333333333333,
              "#9c179e"
             ],
             [
              0.4444444444444444,
              "#bd3786"
             ],
             [
              0.5555555555555556,
              "#d8576b"
             ],
             [
              0.6666666666666666,
              "#ed7953"
             ],
             [
              0.7777777777777778,
              "#fb9f3a"
             ],
             [
              0.8888888888888888,
              "#fdca26"
             ],
             [
              1,
              "#f0f921"
             ]
            ],
            "type": "heatmapgl"
           }
          ],
          "histogram": [
           {
            "marker": {
             "pattern": {
              "fillmode": "overlay",
              "size": 10,
              "solidity": 0.2
             }
            },
            "type": "histogram"
           }
          ],
          "histogram2d": [
           {
            "colorbar": {
             "outlinewidth": 0,
             "ticks": ""
            },
            "colorscale": [
             [
              0,
              "#0d0887"
             ],
             [
              0.1111111111111111,
              "#46039f"
             ],
             [
              0.2222222222222222,
              "#7201a8"
             ],
             [
              0.3333333333333333,
              "#9c179e"
             ],
             [
              0.4444444444444444,
              "#bd3786"
             ],
             [
              0.5555555555555556,
              "#d8576b"
             ],
             [
              0.6666666666666666,
              "#ed7953"
             ],
             [
              0.7777777777777778,
              "#fb9f3a"
             ],
             [
              0.8888888888888888,
              "#fdca26"
             ],
             [
              1,
              "#f0f921"
             ]
            ],
            "type": "histogram2d"
           }
          ],
          "histogram2dcontour": [
           {
            "colorbar": {
             "outlinewidth": 0,
             "ticks": ""
            },
            "colorscale": [
             [
              0,
              "#0d0887"
             ],
             [
              0.1111111111111111,
              "#46039f"
             ],
             [
              0.2222222222222222,
              "#7201a8"
             ],
             [
              0.3333333333333333,
              "#9c179e"
             ],
             [
              0.4444444444444444,
              "#bd3786"
             ],
             [
              0.5555555555555556,
              "#d8576b"
             ],
             [
              0.6666666666666666,
              "#ed7953"
             ],
             [
              0.7777777777777778,
              "#fb9f3a"
             ],
             [
              0.8888888888888888,
              "#fdca26"
             ],
             [
              1,
              "#f0f921"
             ]
            ],
            "type": "histogram2dcontour"
           }
          ],
          "mesh3d": [
           {
            "colorbar": {
             "outlinewidth": 0,
             "ticks": ""
            },
            "type": "mesh3d"
           }
          ],
          "parcoords": [
           {
            "line": {
             "colorbar": {
              "outlinewidth": 0,
              "ticks": ""
             }
            },
            "type": "parcoords"
           }
          ],
          "pie": [
           {
            "automargin": true,
            "type": "pie"
           }
          ],
          "scatter": [
           {
            "fillpattern": {
             "fillmode": "overlay",
             "size": 10,
             "solidity": 0.2
            },
            "type": "scatter"
           }
          ],
          "scatter3d": [
           {
            "line": {
             "colorbar": {
              "outlinewidth": 0,
              "ticks": ""
             }
            },
            "marker": {
             "colorbar": {
              "outlinewidth": 0,
              "ticks": ""
             }
            },
            "type": "scatter3d"
           }
          ],
          "scattercarpet": [
           {
            "marker": {
             "colorbar": {
              "outlinewidth": 0,
              "ticks": ""
             }
            },
            "type": "scattercarpet"
           }
          ],
          "scattergeo": [
           {
            "marker": {
             "colorbar": {
              "outlinewidth": 0,
              "ticks": ""
             }
            },
            "type": "scattergeo"
           }
          ],
          "scattergl": [
           {
            "marker": {
             "colorbar": {
              "outlinewidth": 0,
              "ticks": ""
             }
            },
            "type": "scattergl"
           }
          ],
          "scattermapbox": [
           {
            "marker": {
             "colorbar": {
              "outlinewidth": 0,
              "ticks": ""
             }
            },
            "type": "scattermapbox"
           }
          ],
          "scatterpolar": [
           {
            "marker": {
             "colorbar": {
              "outlinewidth": 0,
              "ticks": ""
             }
            },
            "type": "scatterpolar"
           }
          ],
          "scatterpolargl": [
           {
            "marker": {
             "colorbar": {
              "outlinewidth": 0,
              "ticks": ""
             }
            },
            "type": "scatterpolargl"
           }
          ],
          "scatterternary": [
           {
            "marker": {
             "colorbar": {
              "outlinewidth": 0,
              "ticks": ""
             }
            },
            "type": "scatterternary"
           }
          ],
          "surface": [
           {
            "colorbar": {
             "outlinewidth": 0,
             "ticks": ""
            },
            "colorscale": [
             [
              0,
              "#0d0887"
             ],
             [
              0.1111111111111111,
              "#46039f"
             ],
             [
              0.2222222222222222,
              "#7201a8"
             ],
             [
              0.3333333333333333,
              "#9c179e"
             ],
             [
              0.4444444444444444,
              "#bd3786"
             ],
             [
              0.5555555555555556,
              "#d8576b"
             ],
             [
              0.6666666666666666,
              "#ed7953"
             ],
             [
              0.7777777777777778,
              "#fb9f3a"
             ],
             [
              0.8888888888888888,
              "#fdca26"
             ],
             [
              1,
              "#f0f921"
             ]
            ],
            "type": "surface"
           }
          ],
          "table": [
           {
            "cells": {
             "fill": {
              "color": "#EBF0F8"
             },
             "line": {
              "color": "white"
             }
            },
            "header": {
             "fill": {
              "color": "#C8D4E3"
             },
             "line": {
              "color": "white"
             }
            },
            "type": "table"
           }
          ]
         },
         "layout": {
          "annotationdefaults": {
           "arrowcolor": "#2a3f5f",
           "arrowhead": 0,
           "arrowwidth": 1
          },
          "autotypenumbers": "strict",
          "coloraxis": {
           "colorbar": {
            "outlinewidth": 0,
            "ticks": ""
           }
          },
          "colorscale": {
           "diverging": [
            [
             0,
             "#8e0152"
            ],
            [
             0.1,
             "#c51b7d"
            ],
            [
             0.2,
             "#de77ae"
            ],
            [
             0.3,
             "#f1b6da"
            ],
            [
             0.4,
             "#fde0ef"
            ],
            [
             0.5,
             "#f7f7f7"
            ],
            [
             0.6,
             "#e6f5d0"
            ],
            [
             0.7,
             "#b8e186"
            ],
            [
             0.8,
             "#7fbc41"
            ],
            [
             0.9,
             "#4d9221"
            ],
            [
             1,
             "#276419"
            ]
           ],
           "sequential": [
            [
             0,
             "#0d0887"
            ],
            [
             0.1111111111111111,
             "#46039f"
            ],
            [
             0.2222222222222222,
             "#7201a8"
            ],
            [
             0.3333333333333333,
             "#9c179e"
            ],
            [
             0.4444444444444444,
             "#bd3786"
            ],
            [
             0.5555555555555556,
             "#d8576b"
            ],
            [
             0.6666666666666666,
             "#ed7953"
            ],
            [
             0.7777777777777778,
             "#fb9f3a"
            ],
            [
             0.8888888888888888,
             "#fdca26"
            ],
            [
             1,
             "#f0f921"
            ]
           ],
           "sequentialminus": [
            [
             0,
             "#0d0887"
            ],
            [
             0.1111111111111111,
             "#46039f"
            ],
            [
             0.2222222222222222,
             "#7201a8"
            ],
            [
             0.3333333333333333,
             "#9c179e"
            ],
            [
             0.4444444444444444,
             "#bd3786"
            ],
            [
             0.5555555555555556,
             "#d8576b"
            ],
            [
             0.6666666666666666,
             "#ed7953"
            ],
            [
             0.7777777777777778,
             "#fb9f3a"
            ],
            [
             0.8888888888888888,
             "#fdca26"
            ],
            [
             1,
             "#f0f921"
            ]
           ]
          },
          "colorway": [
           "#636efa",
           "#EF553B",
           "#00cc96",
           "#ab63fa",
           "#FFA15A",
           "#19d3f3",
           "#FF6692",
           "#B6E880",
           "#FF97FF",
           "#FECB52"
          ],
          "font": {
           "color": "#2a3f5f"
          },
          "geo": {
           "bgcolor": "white",
           "lakecolor": "white",
           "landcolor": "#E5ECF6",
           "showlakes": true,
           "showland": true,
           "subunitcolor": "white"
          },
          "hoverlabel": {
           "align": "left"
          },
          "hovermode": "closest",
          "mapbox": {
           "style": "light"
          },
          "paper_bgcolor": "white",
          "plot_bgcolor": "#E5ECF6",
          "polar": {
           "angularaxis": {
            "gridcolor": "white",
            "linecolor": "white",
            "ticks": ""
           },
           "bgcolor": "#E5ECF6",
           "radialaxis": {
            "gridcolor": "white",
            "linecolor": "white",
            "ticks": ""
           }
          },
          "scene": {
           "xaxis": {
            "backgroundcolor": "#E5ECF6",
            "gridcolor": "white",
            "gridwidth": 2,
            "linecolor": "white",
            "showbackground": true,
            "ticks": "",
            "zerolinecolor": "white"
           },
           "yaxis": {
            "backgroundcolor": "#E5ECF6",
            "gridcolor": "white",
            "gridwidth": 2,
            "linecolor": "white",
            "showbackground": true,
            "ticks": "",
            "zerolinecolor": "white"
           },
           "zaxis": {
            "backgroundcolor": "#E5ECF6",
            "gridcolor": "white",
            "gridwidth": 2,
            "linecolor": "white",
            "showbackground": true,
            "ticks": "",
            "zerolinecolor": "white"
           }
          },
          "shapedefaults": {
           "line": {
            "color": "#2a3f5f"
           }
          },
          "ternary": {
           "aaxis": {
            "gridcolor": "white",
            "linecolor": "white",
            "ticks": ""
           },
           "baxis": {
            "gridcolor": "white",
            "linecolor": "white",
            "ticks": ""
           },
           "bgcolor": "#E5ECF6",
           "caxis": {
            "gridcolor": "white",
            "linecolor": "white",
            "ticks": ""
           }
          },
          "title": {
           "x": 0.05
          },
          "xaxis": {
           "automargin": true,
           "gridcolor": "white",
           "linecolor": "white",
           "ticks": "",
           "title": {
            "standoff": 15
           },
           "zerolinecolor": "white",
           "zerolinewidth": 2
          },
          "yaxis": {
           "automargin": true,
           "gridcolor": "white",
           "linecolor": "white",
           "ticks": "",
           "title": {
            "standoff": 15
           },
           "zerolinecolor": "white",
           "zerolinewidth": 2
          }
         }
        },
        "width": 900,
        "xaxis": {
         "gridcolor": "#1f292f",
         "nticks": 5,
         "rangeslider": {
          "visible": false
         }
        },
        "yaxis": {
         "gridcolor": "#1f292f"
        }
       }
      }
     },
     "metadata": {},
     "output_type": "display_data"
    }
   ],
   "source": [
    "fig = go.Figure()\n",
    "fig.add_trace(go.Candlestick(\n",
    "    x=df_plot.sTime,\n",
    "    open=df_plot.mid_o,\n",
    "    high=df_plot.mid_h,\n",
    "    low=df_plot.mid_l,\n",
    "    close=df_plot.mid_c,\n",
    "    line=dict(width=1), opacity=1,\n",
    "    increasing_fillcolor='#24A06B',\n",
    "    decreasing_fillcolor=\"#CC2E3C\",\n",
    "    increasing_line_color='#2EC886',  \n",
    "    decreasing_line_color='#FF3A4C'\n",
    "))\n",
    "\n",
    "fig.update_yaxes(\n",
    "    gridcolor=\"#1f292f\"\n",
    ")\n",
    "fig.update_xaxes(\n",
    "    gridcolor=\"#1f292f\",\n",
    "    rangeslider=dict(visible=False),\n",
    "    nticks=5\n",
    ")\n",
    "\n",
    "fig.update_layout(\n",
    "    width=900,\n",
    "    height=400,\n",
    "    margin=dict(l=10,r=10,b=10,t=10),\n",
    "    paper_bgcolor=\"#2c303c\",\n",
    "    plot_bgcolor=\"#2c303c\",\n",
    "    font=dict(size=8, color=\"#e1e1e1\")\n",
    ")\n",
    "\n",
    "fig.show()"
   ]
  },
  {
   "cell_type": "code",
   "execution_count": null,
   "id": "e82b7f77",
   "metadata": {},
   "outputs": [],
   "source": []
  },
  {
   "cell_type": "code",
   "execution_count": null,
   "id": "fdb6f2c5",
   "metadata": {},
   "outputs": [],
   "source": []
  },
  {
   "cell_type": "code",
   "execution_count": null,
   "id": "210c53e5",
   "metadata": {},
   "outputs": [],
   "source": []
  },
  {
   "cell_type": "code",
   "execution_count": null,
   "id": "1f25826c",
   "metadata": {},
   "outputs": [],
   "source": []
  },
  {
   "cell_type": "code",
   "execution_count": null,
   "id": "43f3bf12",
   "metadata": {},
   "outputs": [],
   "source": []
  },
  {
   "cell_type": "code",
   "execution_count": null,
   "id": "29ec4abb",
   "metadata": {},
   "outputs": [],
   "source": []
  }
 ],
 "metadata": {
  "kernelspec": {
   "display_name": ".venv",
   "language": "python",
   "name": "python3"
  },
  "language_info": {
   "codemirror_mode": {
    "name": "ipython",
    "version": 3
   },
   "file_extension": ".py",
   "mimetype": "text/x-python",
   "name": "python",
   "nbconvert_exporter": "python",
   "pygments_lexer": "ipython3",
   "version": "3.13.0"
  }
 },
 "nbformat": 4,
 "nbformat_minor": 5
}
